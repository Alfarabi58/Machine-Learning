{
 "cells": [
  {
   "cell_type": "markdown",
   "metadata": {},
   "source": [
    "# i. Perkenalan"
   ]
  },
  {
   "cell_type": "markdown",
   "metadata": {},
   "source": [
    "**Nama** : Alfarabi\n",
    "\n",
    "**Dataset** : [Credit Card Default](https://console.cloud.google.com/bigquery?p=bigquery-public-data&d=ml_datasets&t=credit_card_default&page=table&project=green-reporter-417802&ws=!1m5!1m4!4m3!1sbigquery-public-data!2sml_datasets!3scredit_card_default)\n",
    "\n",
    "**Hugging Face** : (https://huggingface.co/spaces/Alfarabi58/Predict_Credit_Card_Default?logs=container)\n",
    "\n",
    "**Problem Statement** : Dataset ini berfokus pada masalah default kartu kredit, yaitu situasi di mana pemegang kartu kredit gagal melakukan pembayaran tepat waktu. Masalah ini memiliki konsekuensi keuangan serius baik bagi perusahaan penerbit kartu kredit maupun bagi pemegang kartu. Fenomena default kartu kredit dapat menjadi perhatian serius dalam industri keuangan karena dapat mengakibatkan kerugian finansial yang signifikan. Identifikasi pola atau faktor yang mempengaruhi default kartu kredit dapat membantu perusahaan dan lembaga keuangan dalam pengambilan keputusan yang lebih baik terkait manajemen risiko, penilaian kredit, dan pencegahan kerugian.\n",
    "\n",
    "**Objective** : Mengidentifikasi pola atau faktor-faktor yang mempengaruhi default kartu kredit. Dengan memahami dan menganalisis pola default credit card menggunakan machine learning diharapkan dapat ditemukan wawasan yang dapat mendukung pengambilan keputusan yang lebih baik dalam industri keuangan."
   ]
  },
  {
   "cell_type": "markdown",
   "metadata": {},
   "source": [
    "# ii. Query SQL"
   ]
  },
  {
   "cell_type": "markdown",
   "metadata": {},
   "source": [
    "```sql\n",
    "from google.colab import auth\n",
    "from google.cloud import bigquery\n",
    "auth.authenticate_user()\n",
    "print('Authenticated')\n",
    "\n",
    "project_id = \"green-reporter-417802\"\n",
    "client = bigquery.Client(project=project_id)```"
   ]
  },
  {
   "cell_type": "markdown",
   "metadata": {},
   "source": [
    "```sql \n",
    "from google.cloud import bigquery\n",
    "from google.oauth2 import service_account\n",
    "import pandas as pd\n",
    "\n",
    "# Query untuk mengambil data dari BigQuery\n",
    "df = client.query('''\n",
    "    SELECT \n",
    "        limit_balance,\n",
    "        CAST(sex AS INT64) AS sex,\n",
    "        CAST(education_level AS INT64) AS education_level,\n",
    "        CAST(marital_status AS INT64) AS marital_status,\n",
    "        age,\n",
    "        pay_0,\n",
    "        pay_2,\n",
    "        pay_3,\n",
    "        pay_4,\n",
    "        CAST(pay_5 AS FLOAT64) AS pay_5,\n",
    "        CAST(pay_6 AS FLOAT64) AS pay_6,\n",
    "        bill_amt_1,\n",
    "        bill_amt_2,\n",
    "        bill_amt_3,\n",
    "        bill_amt_4,\n",
    "        bill_amt_5,\n",
    "        bill_amt_6,\n",
    "        pay_amt_1,\n",
    "        pay_amt_2,\n",
    "        pay_amt_3,\n",
    "        pay_amt_4,\n",
    "        pay_amt_5,\n",
    "        pay_amt_6,\n",
    "        CAST(default_payment_next_month AS INT64) AS default_payment_next_month\n",
    "    FROM \n",
    "        `bigquery-public-data.ml_datasets.credit_card_default`\n",
    "    LIMIT 9990\n",
    "    ''').to_dataframe()```"
   ]
  },
  {
   "cell_type": "markdown",
   "metadata": {},
   "source": [
    "# iii. Import Libraries"
   ]
  },
  {
   "cell_type": "code",
   "execution_count": 1,
   "metadata": {},
   "outputs": [],
   "source": [
    "# Libraries\n",
    "import pandas as pd\n",
    "import numpy as np\n",
    "import phik\n",
    "from scipy.stats import skew\n",
    "\n",
    "# Visualization\n",
    "import matplotlib.pyplot as plt\n",
    "import seaborn as sns\n",
    "\n",
    "# Splitting data\n",
    "from sklearn.model_selection import train_test_split\n",
    "\n",
    "# Evaluation metrics\n",
    "from sklearn.metrics import f1_score\n",
    "from sklearn.metrics import ConfusionMatrixDisplay\n",
    "\n",
    "# Model definition\n",
    "from sklearn.linear_model import LogisticRegression\n",
    "from sklearn.svm import SVC\n",
    "from sklearn.neighbors import KNeighborsClassifier\n",
    "from sklearn.compose import ColumnTransformer\n",
    "from sklearn.pipeline import make_pipeline\n",
    "from feature_engine.outliers import Winsorizer\n",
    "\n",
    "\n",
    "# Hyperparameter\n",
    "from sklearn.model_selection import cross_val_score\n",
    "from sklearn.model_selection import GridSearchCV\n",
    "\n",
    "# Import kfold\n",
    "from sklearn.model_selection import StratifiedKFold\n",
    "\n",
    "# Model Saving\n",
    "import pickle\n",
    "\n",
    "# Warning\n",
    "import warnings \n",
    "warnings.filterwarnings(\"ignore\")"
   ]
  },
  {
   "cell_type": "markdown",
   "metadata": {},
   "source": [
    "# iv. Data Loading"
   ]
  },
  {
   "cell_type": "markdown",
   "metadata": {},
   "source": [
    "Data yang diambil merupakan dataset credit card yang akan di evaluasi dengan menggunakan **Logistic Regression**, **SVM**, dan **KNN**."
   ]
  },
  {
   "cell_type": "code",
   "execution_count": 2,
   "metadata": {},
   "outputs": [
    {
     "data": {
      "text/html": [
       "<div>\n",
       "<style scoped>\n",
       "    .dataframe tbody tr th:only-of-type {\n",
       "        vertical-align: middle;\n",
       "    }\n",
       "\n",
       "    .dataframe tbody tr th {\n",
       "        vertical-align: top;\n",
       "    }\n",
       "\n",
       "    .dataframe thead th {\n",
       "        text-align: right;\n",
       "    }\n",
       "</style>\n",
       "<table border=\"1\" class=\"dataframe\">\n",
       "  <thead>\n",
       "    <tr style=\"text-align: right;\">\n",
       "      <th></th>\n",
       "      <th>limit_balance</th>\n",
       "      <th>sex</th>\n",
       "      <th>education_level</th>\n",
       "      <th>marital_status</th>\n",
       "      <th>age</th>\n",
       "      <th>pay_0</th>\n",
       "      <th>pay_2</th>\n",
       "      <th>pay_3</th>\n",
       "      <th>pay_4</th>\n",
       "      <th>pay_5</th>\n",
       "      <th>...</th>\n",
       "      <th>bill_amt_4</th>\n",
       "      <th>bill_amt_5</th>\n",
       "      <th>bill_amt_6</th>\n",
       "      <th>pay_amt_1</th>\n",
       "      <th>pay_amt_2</th>\n",
       "      <th>pay_amt_3</th>\n",
       "      <th>pay_amt_4</th>\n",
       "      <th>pay_amt_5</th>\n",
       "      <th>pay_amt_6</th>\n",
       "      <th>default_payment_next_month</th>\n",
       "    </tr>\n",
       "  </thead>\n",
       "  <tbody>\n",
       "    <tr>\n",
       "      <th>0</th>\n",
       "      <td>80000.0</td>\n",
       "      <td>1</td>\n",
       "      <td>6</td>\n",
       "      <td>1</td>\n",
       "      <td>54.0</td>\n",
       "      <td>0.0</td>\n",
       "      <td>0.0</td>\n",
       "      <td>0.0</td>\n",
       "      <td>0.0</td>\n",
       "      <td>0.0</td>\n",
       "      <td>...</td>\n",
       "      <td>29296.0</td>\n",
       "      <td>26210.0</td>\n",
       "      <td>17643.0</td>\n",
       "      <td>2545.0</td>\n",
       "      <td>2208.0</td>\n",
       "      <td>1336.0</td>\n",
       "      <td>2232.0</td>\n",
       "      <td>542.0</td>\n",
       "      <td>348.0</td>\n",
       "      <td>1</td>\n",
       "    </tr>\n",
       "    <tr>\n",
       "      <th>1</th>\n",
       "      <td>200000.0</td>\n",
       "      <td>1</td>\n",
       "      <td>4</td>\n",
       "      <td>1</td>\n",
       "      <td>49.0</td>\n",
       "      <td>0.0</td>\n",
       "      <td>0.0</td>\n",
       "      <td>0.0</td>\n",
       "      <td>0.0</td>\n",
       "      <td>0.0</td>\n",
       "      <td>...</td>\n",
       "      <td>50146.0</td>\n",
       "      <td>50235.0</td>\n",
       "      <td>48984.0</td>\n",
       "      <td>1689.0</td>\n",
       "      <td>2164.0</td>\n",
       "      <td>2500.0</td>\n",
       "      <td>3480.0</td>\n",
       "      <td>2500.0</td>\n",
       "      <td>3000.0</td>\n",
       "      <td>0</td>\n",
       "    </tr>\n",
       "    <tr>\n",
       "      <th>2</th>\n",
       "      <td>20000.0</td>\n",
       "      <td>2</td>\n",
       "      <td>6</td>\n",
       "      <td>2</td>\n",
       "      <td>22.0</td>\n",
       "      <td>0.0</td>\n",
       "      <td>0.0</td>\n",
       "      <td>0.0</td>\n",
       "      <td>0.0</td>\n",
       "      <td>0.0</td>\n",
       "      <td>...</td>\n",
       "      <td>1434.0</td>\n",
       "      <td>500.0</td>\n",
       "      <td>0.0</td>\n",
       "      <td>4641.0</td>\n",
       "      <td>1019.0</td>\n",
       "      <td>900.0</td>\n",
       "      <td>0.0</td>\n",
       "      <td>1500.0</td>\n",
       "      <td>0.0</td>\n",
       "      <td>1</td>\n",
       "    </tr>\n",
       "    <tr>\n",
       "      <th>3</th>\n",
       "      <td>260000.0</td>\n",
       "      <td>2</td>\n",
       "      <td>4</td>\n",
       "      <td>2</td>\n",
       "      <td>33.0</td>\n",
       "      <td>0.0</td>\n",
       "      <td>0.0</td>\n",
       "      <td>0.0</td>\n",
       "      <td>0.0</td>\n",
       "      <td>0.0</td>\n",
       "      <td>...</td>\n",
       "      <td>27821.0</td>\n",
       "      <td>30767.0</td>\n",
       "      <td>29890.0</td>\n",
       "      <td>5000.0</td>\n",
       "      <td>5000.0</td>\n",
       "      <td>1137.0</td>\n",
       "      <td>5000.0</td>\n",
       "      <td>1085.0</td>\n",
       "      <td>5000.0</td>\n",
       "      <td>0</td>\n",
       "    </tr>\n",
       "    <tr>\n",
       "      <th>4</th>\n",
       "      <td>150000.0</td>\n",
       "      <td>1</td>\n",
       "      <td>4</td>\n",
       "      <td>2</td>\n",
       "      <td>32.0</td>\n",
       "      <td>0.0</td>\n",
       "      <td>0.0</td>\n",
       "      <td>0.0</td>\n",
       "      <td>-1.0</td>\n",
       "      <td>0.0</td>\n",
       "      <td>...</td>\n",
       "      <td>150464.0</td>\n",
       "      <td>143375.0</td>\n",
       "      <td>146411.0</td>\n",
       "      <td>4019.0</td>\n",
       "      <td>146896.0</td>\n",
       "      <td>157436.0</td>\n",
       "      <td>4600.0</td>\n",
       "      <td>4709.0</td>\n",
       "      <td>5600.0</td>\n",
       "      <td>0</td>\n",
       "    </tr>\n",
       "  </tbody>\n",
       "</table>\n",
       "<p>5 rows × 24 columns</p>\n",
       "</div>"
      ],
      "text/plain": [
       "   limit_balance  sex  education_level  marital_status   age  pay_0  pay_2  \\\n",
       "0        80000.0    1                6               1  54.0    0.0    0.0   \n",
       "1       200000.0    1                4               1  49.0    0.0    0.0   \n",
       "2        20000.0    2                6               2  22.0    0.0    0.0   \n",
       "3       260000.0    2                4               2  33.0    0.0    0.0   \n",
       "4       150000.0    1                4               2  32.0    0.0    0.0   \n",
       "\n",
       "   pay_3  pay_4  pay_5  ...  bill_amt_4  bill_amt_5  bill_amt_6  pay_amt_1  \\\n",
       "0    0.0    0.0    0.0  ...     29296.0     26210.0     17643.0     2545.0   \n",
       "1    0.0    0.0    0.0  ...     50146.0     50235.0     48984.0     1689.0   \n",
       "2    0.0    0.0    0.0  ...      1434.0       500.0         0.0     4641.0   \n",
       "3    0.0    0.0    0.0  ...     27821.0     30767.0     29890.0     5000.0   \n",
       "4    0.0   -1.0    0.0  ...    150464.0    143375.0    146411.0     4019.0   \n",
       "\n",
       "   pay_amt_2  pay_amt_3  pay_amt_4  pay_amt_5  pay_amt_6  \\\n",
       "0     2208.0     1336.0     2232.0      542.0      348.0   \n",
       "1     2164.0     2500.0     3480.0     2500.0     3000.0   \n",
       "2     1019.0      900.0        0.0     1500.0        0.0   \n",
       "3     5000.0     1137.0     5000.0     1085.0     5000.0   \n",
       "4   146896.0   157436.0     4600.0     4709.0     5600.0   \n",
       "\n",
       "   default_payment_next_month  \n",
       "0                           1  \n",
       "1                           0  \n",
       "2                           1  \n",
       "3                           0  \n",
       "4                           0  \n",
       "\n",
       "[5 rows x 24 columns]"
      ]
     },
     "execution_count": 2,
     "metadata": {},
     "output_type": "execute_result"
    }
   ],
   "source": [
    "# Load dataset\n",
    "df_ori = pd.read_csv('dataset_credit_card.csv')\n",
    "\n",
    "# Duplicate dataset\n",
    "df = df_ori.copy()\n",
    "\n",
    "# Show 5 data\n",
    "df.head()"
   ]
  },
  {
   "cell_type": "markdown",
   "metadata": {},
   "source": [
    "Pertama saya akan melakukan pengecekan dataframe."
   ]
  },
  {
   "cell_type": "code",
   "execution_count": 3,
   "metadata": {},
   "outputs": [
    {
     "name": "stdout",
     "output_type": "stream",
     "text": [
      "<class 'pandas.core.frame.DataFrame'>\n",
      "RangeIndex: 2965 entries, 0 to 2964\n",
      "Data columns (total 24 columns):\n",
      " #   Column                      Non-Null Count  Dtype  \n",
      "---  ------                      --------------  -----  \n",
      " 0   limit_balance               2965 non-null   float64\n",
      " 1   sex                         2965 non-null   int64  \n",
      " 2   education_level             2965 non-null   int64  \n",
      " 3   marital_status              2965 non-null   int64  \n",
      " 4   age                         2965 non-null   float64\n",
      " 5   pay_0                       2965 non-null   float64\n",
      " 6   pay_2                       2965 non-null   float64\n",
      " 7   pay_3                       2965 non-null   float64\n",
      " 8   pay_4                       2965 non-null   float64\n",
      " 9   pay_5                       2965 non-null   float64\n",
      " 10  pay_6                       2965 non-null   float64\n",
      " 11  bill_amt_1                  2965 non-null   float64\n",
      " 12  bill_amt_2                  2965 non-null   float64\n",
      " 13  bill_amt_3                  2965 non-null   float64\n",
      " 14  bill_amt_4                  2965 non-null   float64\n",
      " 15  bill_amt_5                  2965 non-null   float64\n",
      " 16  bill_amt_6                  2965 non-null   float64\n",
      " 17  pay_amt_1                   2965 non-null   float64\n",
      " 18  pay_amt_2                   2965 non-null   float64\n",
      " 19  pay_amt_3                   2965 non-null   float64\n",
      " 20  pay_amt_4                   2965 non-null   float64\n",
      " 21  pay_amt_5                   2965 non-null   float64\n",
      " 22  pay_amt_6                   2965 non-null   float64\n",
      " 23  default_payment_next_month  2965 non-null   int64  \n",
      "dtypes: float64(20), int64(4)\n",
      "memory usage: 556.1 KB\n"
     ]
    }
   ],
   "source": [
    "# Check dataframe\n",
    "df.info()"
   ]
  },
  {
   "cell_type": "markdown",
   "metadata": {},
   "source": [
    "Informasi yang didapatkan dari data diatas adalah:  \n",
    "- 2965 entries\n",
    "- 24 columns"
   ]
  },
  {
   "cell_type": "markdown",
   "metadata": {},
   "source": [
    "Lalu saya akan melakukan pengecekan duplikat pada data."
   ]
  },
  {
   "cell_type": "code",
   "execution_count": 4,
   "metadata": {},
   "outputs": [
    {
     "data": {
      "text/plain": [
       "1"
      ]
     },
     "execution_count": 4,
     "metadata": {},
     "output_type": "execute_result"
    }
   ],
   "source": [
    "# Cek duplikasi data\n",
    "df.duplicated().sum()"
   ]
  },
  {
   "cell_type": "markdown",
   "metadata": {},
   "source": [
    "Setelah melakukan pengecekan duplitkat terdapat 1 data duplikat, lalu saya akan menghapus data duplikat tersebut."
   ]
  },
  {
   "cell_type": "code",
   "execution_count": 5,
   "metadata": {},
   "outputs": [
    {
     "data": {
      "text/html": [
       "<div>\n",
       "<style scoped>\n",
       "    .dataframe tbody tr th:only-of-type {\n",
       "        vertical-align: middle;\n",
       "    }\n",
       "\n",
       "    .dataframe tbody tr th {\n",
       "        vertical-align: top;\n",
       "    }\n",
       "\n",
       "    .dataframe thead th {\n",
       "        text-align: right;\n",
       "    }\n",
       "</style>\n",
       "<table border=\"1\" class=\"dataframe\">\n",
       "  <thead>\n",
       "    <tr style=\"text-align: right;\">\n",
       "      <th></th>\n",
       "      <th>limit_balance</th>\n",
       "      <th>sex</th>\n",
       "      <th>education_level</th>\n",
       "      <th>marital_status</th>\n",
       "      <th>age</th>\n",
       "      <th>pay_0</th>\n",
       "      <th>pay_2</th>\n",
       "      <th>pay_3</th>\n",
       "      <th>pay_4</th>\n",
       "      <th>pay_5</th>\n",
       "      <th>...</th>\n",
       "      <th>bill_amt_4</th>\n",
       "      <th>bill_amt_5</th>\n",
       "      <th>bill_amt_6</th>\n",
       "      <th>pay_amt_1</th>\n",
       "      <th>pay_amt_2</th>\n",
       "      <th>pay_amt_3</th>\n",
       "      <th>pay_amt_4</th>\n",
       "      <th>pay_amt_5</th>\n",
       "      <th>pay_amt_6</th>\n",
       "      <th>default_payment_next_month</th>\n",
       "    </tr>\n",
       "  </thead>\n",
       "  <tbody>\n",
       "    <tr>\n",
       "      <th>0</th>\n",
       "      <td>80000.0</td>\n",
       "      <td>1</td>\n",
       "      <td>6</td>\n",
       "      <td>1</td>\n",
       "      <td>54.0</td>\n",
       "      <td>0.0</td>\n",
       "      <td>0.0</td>\n",
       "      <td>0.0</td>\n",
       "      <td>0.0</td>\n",
       "      <td>0.0</td>\n",
       "      <td>...</td>\n",
       "      <td>29296.0</td>\n",
       "      <td>26210.0</td>\n",
       "      <td>17643.0</td>\n",
       "      <td>2545.0</td>\n",
       "      <td>2208.0</td>\n",
       "      <td>1336.0</td>\n",
       "      <td>2232.0</td>\n",
       "      <td>542.0</td>\n",
       "      <td>348.0</td>\n",
       "      <td>1</td>\n",
       "    </tr>\n",
       "    <tr>\n",
       "      <th>1</th>\n",
       "      <td>200000.0</td>\n",
       "      <td>1</td>\n",
       "      <td>4</td>\n",
       "      <td>1</td>\n",
       "      <td>49.0</td>\n",
       "      <td>0.0</td>\n",
       "      <td>0.0</td>\n",
       "      <td>0.0</td>\n",
       "      <td>0.0</td>\n",
       "      <td>0.0</td>\n",
       "      <td>...</td>\n",
       "      <td>50146.0</td>\n",
       "      <td>50235.0</td>\n",
       "      <td>48984.0</td>\n",
       "      <td>1689.0</td>\n",
       "      <td>2164.0</td>\n",
       "      <td>2500.0</td>\n",
       "      <td>3480.0</td>\n",
       "      <td>2500.0</td>\n",
       "      <td>3000.0</td>\n",
       "      <td>0</td>\n",
       "    </tr>\n",
       "    <tr>\n",
       "      <th>2</th>\n",
       "      <td>20000.0</td>\n",
       "      <td>2</td>\n",
       "      <td>6</td>\n",
       "      <td>2</td>\n",
       "      <td>22.0</td>\n",
       "      <td>0.0</td>\n",
       "      <td>0.0</td>\n",
       "      <td>0.0</td>\n",
       "      <td>0.0</td>\n",
       "      <td>0.0</td>\n",
       "      <td>...</td>\n",
       "      <td>1434.0</td>\n",
       "      <td>500.0</td>\n",
       "      <td>0.0</td>\n",
       "      <td>4641.0</td>\n",
       "      <td>1019.0</td>\n",
       "      <td>900.0</td>\n",
       "      <td>0.0</td>\n",
       "      <td>1500.0</td>\n",
       "      <td>0.0</td>\n",
       "      <td>1</td>\n",
       "    </tr>\n",
       "    <tr>\n",
       "      <th>3</th>\n",
       "      <td>260000.0</td>\n",
       "      <td>2</td>\n",
       "      <td>4</td>\n",
       "      <td>2</td>\n",
       "      <td>33.0</td>\n",
       "      <td>0.0</td>\n",
       "      <td>0.0</td>\n",
       "      <td>0.0</td>\n",
       "      <td>0.0</td>\n",
       "      <td>0.0</td>\n",
       "      <td>...</td>\n",
       "      <td>27821.0</td>\n",
       "      <td>30767.0</td>\n",
       "      <td>29890.0</td>\n",
       "      <td>5000.0</td>\n",
       "      <td>5000.0</td>\n",
       "      <td>1137.0</td>\n",
       "      <td>5000.0</td>\n",
       "      <td>1085.0</td>\n",
       "      <td>5000.0</td>\n",
       "      <td>0</td>\n",
       "    </tr>\n",
       "    <tr>\n",
       "      <th>4</th>\n",
       "      <td>150000.0</td>\n",
       "      <td>1</td>\n",
       "      <td>4</td>\n",
       "      <td>2</td>\n",
       "      <td>32.0</td>\n",
       "      <td>0.0</td>\n",
       "      <td>0.0</td>\n",
       "      <td>0.0</td>\n",
       "      <td>-1.0</td>\n",
       "      <td>0.0</td>\n",
       "      <td>...</td>\n",
       "      <td>150464.0</td>\n",
       "      <td>143375.0</td>\n",
       "      <td>146411.0</td>\n",
       "      <td>4019.0</td>\n",
       "      <td>146896.0</td>\n",
       "      <td>157436.0</td>\n",
       "      <td>4600.0</td>\n",
       "      <td>4709.0</td>\n",
       "      <td>5600.0</td>\n",
       "      <td>0</td>\n",
       "    </tr>\n",
       "    <tr>\n",
       "      <th>...</th>\n",
       "      <td>...</td>\n",
       "      <td>...</td>\n",
       "      <td>...</td>\n",
       "      <td>...</td>\n",
       "      <td>...</td>\n",
       "      <td>...</td>\n",
       "      <td>...</td>\n",
       "      <td>...</td>\n",
       "      <td>...</td>\n",
       "      <td>...</td>\n",
       "      <td>...</td>\n",
       "      <td>...</td>\n",
       "      <td>...</td>\n",
       "      <td>...</td>\n",
       "      <td>...</td>\n",
       "      <td>...</td>\n",
       "      <td>...</td>\n",
       "      <td>...</td>\n",
       "      <td>...</td>\n",
       "      <td>...</td>\n",
       "      <td>...</td>\n",
       "    </tr>\n",
       "    <tr>\n",
       "      <th>2960</th>\n",
       "      <td>80000.0</td>\n",
       "      <td>2</td>\n",
       "      <td>3</td>\n",
       "      <td>2</td>\n",
       "      <td>28.0</td>\n",
       "      <td>-1.0</td>\n",
       "      <td>-1.0</td>\n",
       "      <td>-1.0</td>\n",
       "      <td>-2.0</td>\n",
       "      <td>-2.0</td>\n",
       "      <td>...</td>\n",
       "      <td>0.0</td>\n",
       "      <td>0.0</td>\n",
       "      <td>0.0</td>\n",
       "      <td>2800.0</td>\n",
       "      <td>0.0</td>\n",
       "      <td>0.0</td>\n",
       "      <td>0.0</td>\n",
       "      <td>0.0</td>\n",
       "      <td>0.0</td>\n",
       "      <td>0</td>\n",
       "    </tr>\n",
       "    <tr>\n",
       "      <th>2961</th>\n",
       "      <td>50000.0</td>\n",
       "      <td>2</td>\n",
       "      <td>3</td>\n",
       "      <td>1</td>\n",
       "      <td>51.0</td>\n",
       "      <td>-1.0</td>\n",
       "      <td>-1.0</td>\n",
       "      <td>-1.0</td>\n",
       "      <td>-1.0</td>\n",
       "      <td>-2.0</td>\n",
       "      <td>...</td>\n",
       "      <td>0.0</td>\n",
       "      <td>0.0</td>\n",
       "      <td>0.0</td>\n",
       "      <td>300.0</td>\n",
       "      <td>5880.0</td>\n",
       "      <td>0.0</td>\n",
       "      <td>0.0</td>\n",
       "      <td>0.0</td>\n",
       "      <td>0.0</td>\n",
       "      <td>1</td>\n",
       "    </tr>\n",
       "    <tr>\n",
       "      <th>2962</th>\n",
       "      <td>450000.0</td>\n",
       "      <td>2</td>\n",
       "      <td>2</td>\n",
       "      <td>1</td>\n",
       "      <td>38.0</td>\n",
       "      <td>-2.0</td>\n",
       "      <td>-2.0</td>\n",
       "      <td>-2.0</td>\n",
       "      <td>-2.0</td>\n",
       "      <td>-2.0</td>\n",
       "      <td>...</td>\n",
       "      <td>390.0</td>\n",
       "      <td>390.0</td>\n",
       "      <td>390.0</td>\n",
       "      <td>390.0</td>\n",
       "      <td>780.0</td>\n",
       "      <td>390.0</td>\n",
       "      <td>390.0</td>\n",
       "      <td>390.0</td>\n",
       "      <td>390.0</td>\n",
       "      <td>1</td>\n",
       "    </tr>\n",
       "    <tr>\n",
       "      <th>2963</th>\n",
       "      <td>50000.0</td>\n",
       "      <td>2</td>\n",
       "      <td>2</td>\n",
       "      <td>1</td>\n",
       "      <td>44.0</td>\n",
       "      <td>-2.0</td>\n",
       "      <td>-2.0</td>\n",
       "      <td>-2.0</td>\n",
       "      <td>-2.0</td>\n",
       "      <td>-2.0</td>\n",
       "      <td>...</td>\n",
       "      <td>390.0</td>\n",
       "      <td>390.0</td>\n",
       "      <td>0.0</td>\n",
       "      <td>390.0</td>\n",
       "      <td>390.0</td>\n",
       "      <td>390.0</td>\n",
       "      <td>390.0</td>\n",
       "      <td>0.0</td>\n",
       "      <td>780.0</td>\n",
       "      <td>0</td>\n",
       "    </tr>\n",
       "    <tr>\n",
       "      <th>2964</th>\n",
       "      <td>290000.0</td>\n",
       "      <td>2</td>\n",
       "      <td>2</td>\n",
       "      <td>1</td>\n",
       "      <td>39.0</td>\n",
       "      <td>1.0</td>\n",
       "      <td>-2.0</td>\n",
       "      <td>-2.0</td>\n",
       "      <td>-2.0</td>\n",
       "      <td>-2.0</td>\n",
       "      <td>...</td>\n",
       "      <td>3184.0</td>\n",
       "      <td>390.0</td>\n",
       "      <td>390.0</td>\n",
       "      <td>10000.0</td>\n",
       "      <td>800.0</td>\n",
       "      <td>3184.0</td>\n",
       "      <td>390.0</td>\n",
       "      <td>390.0</td>\n",
       "      <td>6617.0</td>\n",
       "      <td>0</td>\n",
       "    </tr>\n",
       "  </tbody>\n",
       "</table>\n",
       "<p>2964 rows × 24 columns</p>\n",
       "</div>"
      ],
      "text/plain": [
       "      limit_balance  sex  education_level  marital_status   age  pay_0  pay_2  \\\n",
       "0           80000.0    1                6               1  54.0    0.0    0.0   \n",
       "1          200000.0    1                4               1  49.0    0.0    0.0   \n",
       "2           20000.0    2                6               2  22.0    0.0    0.0   \n",
       "3          260000.0    2                4               2  33.0    0.0    0.0   \n",
       "4          150000.0    1                4               2  32.0    0.0    0.0   \n",
       "...             ...  ...              ...             ...   ...    ...    ...   \n",
       "2960        80000.0    2                3               2  28.0   -1.0   -1.0   \n",
       "2961        50000.0    2                3               1  51.0   -1.0   -1.0   \n",
       "2962       450000.0    2                2               1  38.0   -2.0   -2.0   \n",
       "2963        50000.0    2                2               1  44.0   -2.0   -2.0   \n",
       "2964       290000.0    2                2               1  39.0    1.0   -2.0   \n",
       "\n",
       "      pay_3  pay_4  pay_5  ...  bill_amt_4  bill_amt_5  bill_amt_6  pay_amt_1  \\\n",
       "0       0.0    0.0    0.0  ...     29296.0     26210.0     17643.0     2545.0   \n",
       "1       0.0    0.0    0.0  ...     50146.0     50235.0     48984.0     1689.0   \n",
       "2       0.0    0.0    0.0  ...      1434.0       500.0         0.0     4641.0   \n",
       "3       0.0    0.0    0.0  ...     27821.0     30767.0     29890.0     5000.0   \n",
       "4       0.0   -1.0    0.0  ...    150464.0    143375.0    146411.0     4019.0   \n",
       "...     ...    ...    ...  ...         ...         ...         ...        ...   \n",
       "2960   -1.0   -2.0   -2.0  ...         0.0         0.0         0.0     2800.0   \n",
       "2961   -1.0   -1.0   -2.0  ...         0.0         0.0         0.0      300.0   \n",
       "2962   -2.0   -2.0   -2.0  ...       390.0       390.0       390.0      390.0   \n",
       "2963   -2.0   -2.0   -2.0  ...       390.0       390.0         0.0      390.0   \n",
       "2964   -2.0   -2.0   -2.0  ...      3184.0       390.0       390.0    10000.0   \n",
       "\n",
       "      pay_amt_2  pay_amt_3  pay_amt_4  pay_amt_5  pay_amt_6  \\\n",
       "0        2208.0     1336.0     2232.0      542.0      348.0   \n",
       "1        2164.0     2500.0     3480.0     2500.0     3000.0   \n",
       "2        1019.0      900.0        0.0     1500.0        0.0   \n",
       "3        5000.0     1137.0     5000.0     1085.0     5000.0   \n",
       "4      146896.0   157436.0     4600.0     4709.0     5600.0   \n",
       "...         ...        ...        ...        ...        ...   \n",
       "2960        0.0        0.0        0.0        0.0        0.0   \n",
       "2961     5880.0        0.0        0.0        0.0        0.0   \n",
       "2962      780.0      390.0      390.0      390.0      390.0   \n",
       "2963      390.0      390.0      390.0        0.0      780.0   \n",
       "2964      800.0     3184.0      390.0      390.0     6617.0   \n",
       "\n",
       "      default_payment_next_month  \n",
       "0                              1  \n",
       "1                              0  \n",
       "2                              1  \n",
       "3                              0  \n",
       "4                              0  \n",
       "...                          ...  \n",
       "2960                           0  \n",
       "2961                           1  \n",
       "2962                           1  \n",
       "2963                           0  \n",
       "2964                           0  \n",
       "\n",
       "[2964 rows x 24 columns]"
      ]
     },
     "execution_count": 5,
     "metadata": {},
     "output_type": "execute_result"
    }
   ],
   "source": [
    "# Menghapus baris duplikat dari dataframe 'df'\n",
    "df.drop_duplicates()"
   ]
  },
  {
   "cell_type": "markdown",
   "metadata": {},
   "source": [
    "Setelah dilakukan drop terdapat perbedaan jumlah baris yang sebelumnya 2965 menjadi 2964."
   ]
  },
  {
   "cell_type": "markdown",
   "metadata": {},
   "source": [
    "Kemudian saya akan mengecek missing value pada dataframe."
   ]
  },
  {
   "cell_type": "code",
   "execution_count": 6,
   "metadata": {},
   "outputs": [
    {
     "data": {
      "text/plain": [
       "limit_balance                 0\n",
       "sex                           0\n",
       "education_level               0\n",
       "marital_status                0\n",
       "age                           0\n",
       "pay_0                         0\n",
       "pay_2                         0\n",
       "pay_3                         0\n",
       "pay_4                         0\n",
       "pay_5                         0\n",
       "pay_6                         0\n",
       "bill_amt_1                    0\n",
       "bill_amt_2                    0\n",
       "bill_amt_3                    0\n",
       "bill_amt_4                    0\n",
       "bill_amt_5                    0\n",
       "bill_amt_6                    0\n",
       "pay_amt_1                     0\n",
       "pay_amt_2                     0\n",
       "pay_amt_3                     0\n",
       "pay_amt_4                     0\n",
       "pay_amt_5                     0\n",
       "pay_amt_6                     0\n",
       "default_payment_next_month    0\n",
       "dtype: int64"
      ]
     },
     "execution_count": 6,
     "metadata": {},
     "output_type": "execute_result"
    }
   ],
   "source": [
    "# Cek missing value\n",
    "df.isnull().sum()"
   ]
  },
  {
   "cell_type": "markdown",
   "metadata": {},
   "source": [
    "Informasi diatas menunjukan bahwa tidak ada missing value dari masing-masing kolom."
   ]
  },
  {
   "cell_type": "markdown",
   "metadata": {},
   "source": [
    "Lalu saya mengecek statistik deskriptif pada dataframe."
   ]
  },
  {
   "cell_type": "code",
   "execution_count": 7,
   "metadata": {},
   "outputs": [
    {
     "data": {
      "text/html": [
       "<div>\n",
       "<style scoped>\n",
       "    .dataframe tbody tr th:only-of-type {\n",
       "        vertical-align: middle;\n",
       "    }\n",
       "\n",
       "    .dataframe tbody tr th {\n",
       "        vertical-align: top;\n",
       "    }\n",
       "\n",
       "    .dataframe thead th {\n",
       "        text-align: right;\n",
       "    }\n",
       "</style>\n",
       "<table border=\"1\" class=\"dataframe\">\n",
       "  <thead>\n",
       "    <tr style=\"text-align: right;\">\n",
       "      <th></th>\n",
       "      <th>limit_balance</th>\n",
       "      <th>sex</th>\n",
       "      <th>education_level</th>\n",
       "      <th>marital_status</th>\n",
       "      <th>age</th>\n",
       "      <th>pay_0</th>\n",
       "      <th>pay_2</th>\n",
       "      <th>pay_3</th>\n",
       "      <th>pay_4</th>\n",
       "      <th>pay_5</th>\n",
       "      <th>...</th>\n",
       "      <th>bill_amt_4</th>\n",
       "      <th>bill_amt_5</th>\n",
       "      <th>bill_amt_6</th>\n",
       "      <th>pay_amt_1</th>\n",
       "      <th>pay_amt_2</th>\n",
       "      <th>pay_amt_3</th>\n",
       "      <th>pay_amt_4</th>\n",
       "      <th>pay_amt_5</th>\n",
       "      <th>pay_amt_6</th>\n",
       "      <th>default_payment_next_month</th>\n",
       "    </tr>\n",
       "  </thead>\n",
       "  <tbody>\n",
       "    <tr>\n",
       "      <th>count</th>\n",
       "      <td>2965.000000</td>\n",
       "      <td>2965.000000</td>\n",
       "      <td>2965.000000</td>\n",
       "      <td>2965.000000</td>\n",
       "      <td>2965.000000</td>\n",
       "      <td>2965.000000</td>\n",
       "      <td>2965.000000</td>\n",
       "      <td>2965.000000</td>\n",
       "      <td>2965.000000</td>\n",
       "      <td>2965.000000</td>\n",
       "      <td>...</td>\n",
       "      <td>2965.000000</td>\n",
       "      <td>2965.000000</td>\n",
       "      <td>2965.000000</td>\n",
       "      <td>2965.000000</td>\n",
       "      <td>2.965000e+03</td>\n",
       "      <td>2965.000000</td>\n",
       "      <td>2965.000000</td>\n",
       "      <td>2965.000000</td>\n",
       "      <td>2965.000000</td>\n",
       "      <td>2965.000000</td>\n",
       "    </tr>\n",
       "    <tr>\n",
       "      <th>mean</th>\n",
       "      <td>163369.308600</td>\n",
       "      <td>1.607757</td>\n",
       "      <td>1.849578</td>\n",
       "      <td>1.559865</td>\n",
       "      <td>35.193255</td>\n",
       "      <td>0.005059</td>\n",
       "      <td>-0.122428</td>\n",
       "      <td>-0.141653</td>\n",
       "      <td>-0.185160</td>\n",
       "      <td>-0.225295</td>\n",
       "      <td>...</td>\n",
       "      <td>44089.683305</td>\n",
       "      <td>40956.080607</td>\n",
       "      <td>39773.072513</td>\n",
       "      <td>6348.902867</td>\n",
       "      <td>6.272494e+03</td>\n",
       "      <td>5150.497133</td>\n",
       "      <td>4561.376054</td>\n",
       "      <td>4913.286678</td>\n",
       "      <td>5382.701518</td>\n",
       "      <td>0.214165</td>\n",
       "    </tr>\n",
       "    <tr>\n",
       "      <th>std</th>\n",
       "      <td>125030.415472</td>\n",
       "      <td>0.488333</td>\n",
       "      <td>0.778184</td>\n",
       "      <td>0.522317</td>\n",
       "      <td>9.109439</td>\n",
       "      <td>1.114395</td>\n",
       "      <td>1.180784</td>\n",
       "      <td>1.183630</td>\n",
       "      <td>1.178322</td>\n",
       "      <td>1.159003</td>\n",
       "      <td>...</td>\n",
       "      <td>61907.454056</td>\n",
       "      <td>58271.904751</td>\n",
       "      <td>57303.488981</td>\n",
       "      <td>20885.735336</td>\n",
       "      <td>2.887967e+04</td>\n",
       "      <td>14287.079982</td>\n",
       "      <td>13281.499599</td>\n",
       "      <td>16734.340778</td>\n",
       "      <td>17275.953029</td>\n",
       "      <td>0.410311</td>\n",
       "    </tr>\n",
       "    <tr>\n",
       "      <th>min</th>\n",
       "      <td>10000.000000</td>\n",
       "      <td>1.000000</td>\n",
       "      <td>0.000000</td>\n",
       "      <td>0.000000</td>\n",
       "      <td>21.000000</td>\n",
       "      <td>-2.000000</td>\n",
       "      <td>-2.000000</td>\n",
       "      <td>-2.000000</td>\n",
       "      <td>-2.000000</td>\n",
       "      <td>-2.000000</td>\n",
       "      <td>...</td>\n",
       "      <td>-46627.000000</td>\n",
       "      <td>-46627.000000</td>\n",
       "      <td>-73895.000000</td>\n",
       "      <td>0.000000</td>\n",
       "      <td>0.000000e+00</td>\n",
       "      <td>0.000000</td>\n",
       "      <td>0.000000</td>\n",
       "      <td>0.000000</td>\n",
       "      <td>0.000000</td>\n",
       "      <td>0.000000</td>\n",
       "    </tr>\n",
       "    <tr>\n",
       "      <th>25%</th>\n",
       "      <td>50000.000000</td>\n",
       "      <td>1.000000</td>\n",
       "      <td>1.000000</td>\n",
       "      <td>1.000000</td>\n",
       "      <td>28.000000</td>\n",
       "      <td>-1.000000</td>\n",
       "      <td>-1.000000</td>\n",
       "      <td>-1.000000</td>\n",
       "      <td>-1.000000</td>\n",
       "      <td>-1.000000</td>\n",
       "      <td>...</td>\n",
       "      <td>2582.000000</td>\n",
       "      <td>1958.000000</td>\n",
       "      <td>1430.000000</td>\n",
       "      <td>1013.000000</td>\n",
       "      <td>9.900000e+02</td>\n",
       "      <td>477.000000</td>\n",
       "      <td>313.000000</td>\n",
       "      <td>323.000000</td>\n",
       "      <td>173.000000</td>\n",
       "      <td>0.000000</td>\n",
       "    </tr>\n",
       "    <tr>\n",
       "      <th>50%</th>\n",
       "      <td>140000.000000</td>\n",
       "      <td>2.000000</td>\n",
       "      <td>2.000000</td>\n",
       "      <td>2.000000</td>\n",
       "      <td>34.000000</td>\n",
       "      <td>0.000000</td>\n",
       "      <td>0.000000</td>\n",
       "      <td>0.000000</td>\n",
       "      <td>0.000000</td>\n",
       "      <td>0.000000</td>\n",
       "      <td>...</td>\n",
       "      <td>19894.000000</td>\n",
       "      <td>18814.000000</td>\n",
       "      <td>18508.000000</td>\n",
       "      <td>2234.000000</td>\n",
       "      <td>2.175000e+03</td>\n",
       "      <td>1994.000000</td>\n",
       "      <td>1600.000000</td>\n",
       "      <td>1646.000000</td>\n",
       "      <td>1615.000000</td>\n",
       "      <td>0.000000</td>\n",
       "    </tr>\n",
       "    <tr>\n",
       "      <th>75%</th>\n",
       "      <td>230000.000000</td>\n",
       "      <td>2.000000</td>\n",
       "      <td>2.000000</td>\n",
       "      <td>2.000000</td>\n",
       "      <td>41.000000</td>\n",
       "      <td>0.000000</td>\n",
       "      <td>0.000000</td>\n",
       "      <td>0.000000</td>\n",
       "      <td>0.000000</td>\n",
       "      <td>0.000000</td>\n",
       "      <td>...</td>\n",
       "      <td>58622.000000</td>\n",
       "      <td>53373.000000</td>\n",
       "      <td>52287.000000</td>\n",
       "      <td>5087.000000</td>\n",
       "      <td>5.000000e+03</td>\n",
       "      <td>4500.000000</td>\n",
       "      <td>4000.000000</td>\n",
       "      <td>4021.000000</td>\n",
       "      <td>4081.000000</td>\n",
       "      <td>0.000000</td>\n",
       "    </tr>\n",
       "    <tr>\n",
       "      <th>max</th>\n",
       "      <td>800000.000000</td>\n",
       "      <td>2.000000</td>\n",
       "      <td>6.000000</td>\n",
       "      <td>3.000000</td>\n",
       "      <td>69.000000</td>\n",
       "      <td>8.000000</td>\n",
       "      <td>7.000000</td>\n",
       "      <td>7.000000</td>\n",
       "      <td>8.000000</td>\n",
       "      <td>7.000000</td>\n",
       "      <td>...</td>\n",
       "      <td>488808.000000</td>\n",
       "      <td>441981.000000</td>\n",
       "      <td>436172.000000</td>\n",
       "      <td>493358.000000</td>\n",
       "      <td>1.227082e+06</td>\n",
       "      <td>199209.000000</td>\n",
       "      <td>202076.000000</td>\n",
       "      <td>388071.000000</td>\n",
       "      <td>403500.000000</td>\n",
       "      <td>1.000000</td>\n",
       "    </tr>\n",
       "  </tbody>\n",
       "</table>\n",
       "<p>8 rows × 24 columns</p>\n",
       "</div>"
      ],
      "text/plain": [
       "       limit_balance          sex  education_level  marital_status  \\\n",
       "count    2965.000000  2965.000000      2965.000000     2965.000000   \n",
       "mean   163369.308600     1.607757         1.849578        1.559865   \n",
       "std    125030.415472     0.488333         0.778184        0.522317   \n",
       "min     10000.000000     1.000000         0.000000        0.000000   \n",
       "25%     50000.000000     1.000000         1.000000        1.000000   \n",
       "50%    140000.000000     2.000000         2.000000        2.000000   \n",
       "75%    230000.000000     2.000000         2.000000        2.000000   \n",
       "max    800000.000000     2.000000         6.000000        3.000000   \n",
       "\n",
       "               age        pay_0        pay_2        pay_3        pay_4  \\\n",
       "count  2965.000000  2965.000000  2965.000000  2965.000000  2965.000000   \n",
       "mean     35.193255     0.005059    -0.122428    -0.141653    -0.185160   \n",
       "std       9.109439     1.114395     1.180784     1.183630     1.178322   \n",
       "min      21.000000    -2.000000    -2.000000    -2.000000    -2.000000   \n",
       "25%      28.000000    -1.000000    -1.000000    -1.000000    -1.000000   \n",
       "50%      34.000000     0.000000     0.000000     0.000000     0.000000   \n",
       "75%      41.000000     0.000000     0.000000     0.000000     0.000000   \n",
       "max      69.000000     8.000000     7.000000     7.000000     8.000000   \n",
       "\n",
       "             pay_5  ...     bill_amt_4     bill_amt_5     bill_amt_6  \\\n",
       "count  2965.000000  ...    2965.000000    2965.000000    2965.000000   \n",
       "mean     -0.225295  ...   44089.683305   40956.080607   39773.072513   \n",
       "std       1.159003  ...   61907.454056   58271.904751   57303.488981   \n",
       "min      -2.000000  ...  -46627.000000  -46627.000000  -73895.000000   \n",
       "25%      -1.000000  ...    2582.000000    1958.000000    1430.000000   \n",
       "50%       0.000000  ...   19894.000000   18814.000000   18508.000000   \n",
       "75%       0.000000  ...   58622.000000   53373.000000   52287.000000   \n",
       "max       7.000000  ...  488808.000000  441981.000000  436172.000000   \n",
       "\n",
       "           pay_amt_1     pay_amt_2      pay_amt_3      pay_amt_4  \\\n",
       "count    2965.000000  2.965000e+03    2965.000000    2965.000000   \n",
       "mean     6348.902867  6.272494e+03    5150.497133    4561.376054   \n",
       "std     20885.735336  2.887967e+04   14287.079982   13281.499599   \n",
       "min         0.000000  0.000000e+00       0.000000       0.000000   \n",
       "25%      1013.000000  9.900000e+02     477.000000     313.000000   \n",
       "50%      2234.000000  2.175000e+03    1994.000000    1600.000000   \n",
       "75%      5087.000000  5.000000e+03    4500.000000    4000.000000   \n",
       "max    493358.000000  1.227082e+06  199209.000000  202076.000000   \n",
       "\n",
       "           pay_amt_5      pay_amt_6  default_payment_next_month  \n",
       "count    2965.000000    2965.000000                 2965.000000  \n",
       "mean     4913.286678    5382.701518                    0.214165  \n",
       "std     16734.340778   17275.953029                    0.410311  \n",
       "min         0.000000       0.000000                    0.000000  \n",
       "25%       323.000000     173.000000                    0.000000  \n",
       "50%      1646.000000    1615.000000                    0.000000  \n",
       "75%      4021.000000    4081.000000                    0.000000  \n",
       "max    388071.000000  403500.000000                    1.000000  \n",
       "\n",
       "[8 rows x 24 columns]"
      ]
     },
     "execution_count": 7,
     "metadata": {},
     "output_type": "execute_result"
    }
   ],
   "source": [
    "# Menampilkan ringkasan statistik deskriptif dari DataFrame df\n",
    "df.describe()"
   ]
  },
  {
   "cell_type": "markdown",
   "metadata": {},
   "source": [
    "Informasi diatas menunjukan nilai count, mean, std, min, 25%, 50%, 75%, max dari setiap kolom."
   ]
  },
  {
   "cell_type": "markdown",
   "metadata": {},
   "source": [
    "Setelah itu saya mengecek nama kolom yang ada di dataframe."
   ]
  },
  {
   "cell_type": "code",
   "execution_count": 8,
   "metadata": {},
   "outputs": [
    {
     "data": {
      "text/plain": [
       "Index(['limit_balance', 'sex', 'education_level', 'marital_status', 'age',\n",
       "       'pay_0', 'pay_2', 'pay_3', 'pay_4', 'pay_5', 'pay_6', 'bill_amt_1',\n",
       "       'bill_amt_2', 'bill_amt_3', 'bill_amt_4', 'bill_amt_5', 'bill_amt_6',\n",
       "       'pay_amt_1', 'pay_amt_2', 'pay_amt_3', 'pay_amt_4', 'pay_amt_5',\n",
       "       'pay_amt_6', 'default_payment_next_month'],\n",
       "      dtype='object')"
      ]
     },
     "execution_count": 8,
     "metadata": {},
     "output_type": "execute_result"
    }
   ],
   "source": [
    "# Cek nama kolom\n",
    "df.columns"
   ]
  },
  {
   "cell_type": "markdown",
   "metadata": {},
   "source": [
    "Berikut adalah deksripsi dari kolom yang ada di dataframe."
   ]
  },
  {
   "cell_type": "markdown",
   "metadata": {},
   "source": [
    "| Column | Description |\n",
    "| --- | --- |\n",
    "| limit_balance | Amount of given credit in NT dollars (includes individual and family/supplementary credit) |\n",
    "| sex | Gender (1=male, 2=female) |\n",
    "| education_level | Education Level (1=graduate school, 2=university, 3=high school, 4=others, 5=unknown, 6=unknown) |\n",
    "| marital_status | Marital status (1=married, 2=single, 3=others) |\n",
    "| age | Age in years |\n",
    "| pay_0 | Repayment status in September, 2005 (-1=pay duly, 1=payment delay for one month, 2=payment delay for two months, ... 8=payment delay for eight months, 9=payment delay for nine months and above) |\n",
    "| pay_2 | Repayment status in August, 2005 (scale same as above) |\n",
    "| pay_3 | Repayment status in July, 2005 (scale same as above) |\n",
    "| pay_4 | Repayment status in June, 2005 (scale same as above) |\n",
    "| pay_5 | Repayment status in May, 2005 (scale same as above) |\n",
    "| pay_6 | Repayment status in April, 2005 (scale same as above) |\n",
    "| bill_amt_1 | Amount of bill statement in September, 2005 (NT dollar) |\n",
    "| bill_amt_2 | Amount of bill statement in August, 2005 (NT dollar) |\n",
    "| bill_amt_3 | Amount of bill statement in July, 2005 (NT dollar) |\n",
    "| bill_amt_4 | Amount of bill statement in June, 2005 (NT dollar) |\n",
    "| bill_amt_5 | Amount of bill statement in May, 2005 (NT dollar) |\n",
    "| bill_amt_6 | Amount of bill statement in April, 2005 (NT dollar) |\n",
    "| pay_amt_1 | Amount of previous payment in September, 2005 (NT dollar) |\n",
    "| pay_amt_2 | Amount of previous payment in August, 2005 (NT dollar) |\n",
    "| pay_amt_3 | Amount of previous payment in July, 2005 (NT dollar) |\n",
    "| pay_amt_4 | Amount of previous payment in June, 2005 (NT dollar) |\n",
    "| pay_amt_5 | Amount of previous payment in May, 2005 (NT dollar) |\n",
    "| pay_amt_6 | Amount of previous payment in April, 2005 (NT dollar) |\n",
    "| default_payment_next_month | Default payment (1=yes, 0=no) |"
   ]
  },
  {
   "cell_type": "markdown",
   "metadata": {},
   "source": [
    "# v. Exploratory Data Analysis (EDA)"
   ]
  },
  {
   "cell_type": "markdown",
   "metadata": {},
   "source": [
    "Kemudian saya akan melakukan explorasi data."
   ]
  },
  {
   "cell_type": "markdown",
   "metadata": {},
   "source": [
    "1. Objective: Melihat distribusi default payment next month."
   ]
  },
  {
   "cell_type": "code",
   "execution_count": 9,
   "metadata": {},
   "outputs": [
    {
     "data": {
      "image/png": "[encoded data removed]",
      "text/plain": [
       "<Figure size 800x800 with 1 Axes>"
      ]
     },
     "metadata": {},
     "output_type": "display_data"
    }
   ],
   "source": [
    "# Hitung distribusi kelas target\n",
    "class_distribution = df['default_payment_next_month'].value_counts()\n",
    "\n",
    "# Plot pie chart untuk distribusi kelas\n",
    "plt.figure(figsize=(8, 8))\n",
    "plt.pie(class_distribution, labels=class_distribution.index, autopct='%1.1f%%', startangle=90)\n",
    "plt.title('Distribution of Default Payment Next Month')\n",
    "plt.axis('equal')  # Menjadikan pie chart berbentuk lingkaran\n",
    "plt.show()"
   ]
  },
  {
   "cell_type": "markdown",
   "metadata": {},
   "source": [
    "Berdasarkan pie chart sebagian besar (78,6%) pembayaran diperkirakan akan berhasil bulan depan dan sisanya sebanyak 21,4% dari pembayaran diperkirakan akan mengalami kegagalan."
   ]
  },
  {
   "cell_type": "markdown",
   "metadata": {},
   "source": [
    "2. Objective: Melihat distribusi usia berdasarkan pengguna credit card."
   ]
  },
  {
   "cell_type": "code",
   "execution_count": 10,
   "metadata": {},
   "outputs": [
    {
     "data": {
      "image/png": "[encoded data removed]",
      "text/plain": [
       "<Figure size 1000x600 with 1 Axes>"
      ]
     },
     "metadata": {},
     "output_type": "display_data"
    }
   ],
   "source": [
    "# Visualisasi : Histogram Usia (Age)\n",
    "plt.figure(figsize=(10, 6))\n",
    "sns.histplot(df['age'], bins=30, kde=True, color='skyblue')\n",
    "plt.title('Distribusi Usia Pengguna Credit Card')\n",
    "plt.xlabel('Usia')\n",
    "plt.ylabel('Frekuensi')\n",
    "plt.show()"
   ]
  },
  {
   "cell_type": "markdown",
   "metadata": {},
   "source": [
    "Informasi yang didapat dari histogram diatas menunjukan bahwa usia pengguna credit card terbanyak yaitu pada usia 30 tahun."
   ]
  },
  {
   "cell_type": "markdown",
   "metadata": {},
   "source": [
    "3. Objective: Melihat hubungan limit balance per default payment next month."
   ]
  },
  {
   "cell_type": "code",
   "execution_count": 11,
   "metadata": {},
   "outputs": [
    {
     "data": {
      "image/png": "[encoded data removed]",
      "text/plain": [
       "<Figure size 1000x600 with 1 Axes>"
      ]
     },
     "metadata": {},
     "output_type": "display_data"
    }
   ],
   "source": [
    "# Visualisasi : Boxplot Limit Balance per Default Payment Next Month\n",
    "plt.figure(figsize=(10, 6))\n",
    "sns.boxplot(x='default_payment_next_month', y='limit_balance', data=df)\n",
    "plt.title('Hubungan Limit Balance dengan Default Payment Next Month')\n",
    "plt.xlabel('Default Payment Next Month')\n",
    "plt.ylabel('Limit Balance')\n",
    "plt.show()"
   ]
  },
  {
   "cell_type": "markdown",
   "metadata": {},
   "source": [
    "Berdasarkan boxplot diatas semakin tinggi saldo limit semakin besar kemungkinan pembayaran yang gagal bulan depan. Jika saldo limit adalah 800.000 ada kemungkinan besar pembayaran yang gagal bulan depan. Sebaliknya jika saldo limit adalah 0 tidak ada kemungkinan pembayaran gagal bulan depan."
   ]
  },
  {
   "cell_type": "markdown",
   "metadata": {},
   "source": [
    "4. Objective: Melihat persebaran data berdasarkan Bill Amount & Payment Amount pada bulan pertama."
   ]
  },
  {
   "cell_type": "code",
   "execution_count": 12,
   "metadata": {},
   "outputs": [
    {
     "data": {
      "image/png": "[encoded data removed]",
      "text/plain": [
       "<Figure size 1000x600 with 1 Axes>"
      ]
     },
     "metadata": {},
     "output_type": "display_data"
    }
   ],
   "source": [
    "# Visualisasi : Scatterplot Bill Amount vs Payment Amount untuk Bulan Pertama (Bill_amt_1 vs Pay_amt_1)\n",
    "plt.figure(figsize=(10, 6))\n",
    "sns.scatterplot(x='bill_amt_1', y='pay_amt_1', data=df)\n",
    "plt.title('Bill Amount vs Payment Amount untuk Bulan Pertama')\n",
    "plt.xlabel('Bill Amount (Bulan 1)')\n",
    "plt.ylabel('Payment Amount (Bulan 1)')\n",
    "plt.show()"
   ]
  },
  {
   "cell_type": "markdown",
   "metadata": {},
   "source": [
    "Berdasarkan scatter plot diatas terdapat hubungan positif antara bill amount dengan payment amount pada bulan pertama. Hal ini berarti semakin tinggi jumlah tagihan semakin tinggi pula jumlah pembayaran yang dilakukan."
   ]
  },
  {
   "cell_type": "markdown",
   "metadata": {},
   "source": [
    "5. Objective: Melihat pengguna credit card berdasarkan education level."
   ]
  },
  {
   "cell_type": "code",
   "execution_count": 13,
   "metadata": {},
   "outputs": [
    {
     "data": {
      "image/png": "[encoded data removed]",
      "text/plain": [
       "<Figure size 1000x600 with 1 Axes>"
      ]
     },
     "metadata": {},
     "output_type": "display_data"
    }
   ],
   "source": [
    "# Visualisasi : Bar Plot Status Pendidikan (Education Level)\n",
    "edu_counts = df['education_level'].value_counts()\n",
    "\n",
    "# Plot Bar Plot untuk distribusi status pendidikan\n",
    "plt.figure(figsize=(10, 6))\n",
    "sns.countplot(x='education_level', data=df, order=edu_counts.index)\n",
    "plt.title('Distribusi Status Pendidikan Pengguna Credit Card')\n",
    "plt.xlabel('Education Level')\n",
    "plt.ylabel('Jumlah Observasi')\n",
    "plt.xticks(rotation=45)  # Rotasi label sumbu x untuk memperbaiki tampilan\n",
    "plt.show()"
   ]
  },
  {
   "cell_type": "markdown",
   "metadata": {},
   "source": [
    "Informasi yang didapat dari bar plot diatas menunjukan education level terbanyak yang menggunakan credit card. Pengguna credit card terbanyak terletak pada education level 2 (University)."
   ]
  },
  {
   "cell_type": "markdown",
   "metadata": {},
   "source": [
    "# vi. Feature Engineering"
   ]
  },
  {
   "cell_type": "markdown",
   "metadata": {},
   "source": [
    "Pada proses ini dataset akan dipisahkan menjadi fitur `X(Variabel)` dan fitur `y(Target)`.\n",
    "\n",
    "Setelah dipisahkan menjadi fitur X dan y akan dibagi lagi menjadi `Train-set` dan `Test-set`.  \n",
    "\n",
    "Sebelum membagi data, dataset akan dimasukan kedalam variabel baru yaitu data_inf."
   ]
  },
  {
   "cell_type": "code",
   "execution_count": 14,
   "metadata": {},
   "outputs": [],
   "source": [
    "# Menyimpan 1 data random dari data asli untuk digunakan sebagai data inference ke dalam variabel data_inf\n",
    "data_inf = df.sample(1, random_state=0)\n",
    "\n",
    "# Menghapus data inference dari df\n",
    "df.drop(data_inf.index, inplace=True)\n",
    "\n",
    "# Melakukan reset index untuk data_inf dan df\n",
    "df.reset_index(drop=True, inplace=True)\n",
    "data_inf.reset_index(drop=True, inplace=True)\n",
    "\n",
    "# Menghapus target di data_inf\n",
    "data_inf.drop(['default_payment_next_month'], axis=1, inplace=True)"
   ]
  },
  {
   "cell_type": "markdown",
   "metadata": {},
   "source": [
    "Lalu dataset disimpan ke dalam bentuk CSV."
   ]
  },
  {
   "cell_type": "code",
   "execution_count": 15,
   "metadata": {},
   "outputs": [],
   "source": [
    "# Simpan ke csv\n",
    "data_inf.to_csv('data_inf.csv')"
   ]
  },
  {
   "cell_type": "markdown",
   "metadata": {},
   "source": [
    "### Split Between `X` (Features/Variables) and `y` (Target/Label)"
   ]
  },
  {
   "cell_type": "markdown",
   "metadata": {},
   "source": [
    "Saya memilih `default_payment_next_month` menjadi variabel dependen, lalu memasukan variabel selain default_payment_next_month sebagai variabel independen."
   ]
  },
  {
   "cell_type": "code",
   "execution_count": 16,
   "metadata": {},
   "outputs": [],
   "source": [
    "# Splitting feature X & y\n",
    "X= df.drop('default_payment_next_month', axis=1)\n",
    "y = df['default_payment_next_month']"
   ]
  },
  {
   "cell_type": "code",
   "execution_count": 17,
   "metadata": {},
   "outputs": [
    {
     "data": {
      "text/html": [
       "<div>\n",
       "<style scoped>\n",
       "    .dataframe tbody tr th:only-of-type {\n",
       "        vertical-align: middle;\n",
       "    }\n",
       "\n",
       "    .dataframe tbody tr th {\n",
       "        vertical-align: top;\n",
       "    }\n",
       "\n",
       "    .dataframe thead th {\n",
       "        text-align: right;\n",
       "    }\n",
       "</style>\n",
       "<table border=\"1\" class=\"dataframe\">\n",
       "  <thead>\n",
       "    <tr style=\"text-align: right;\">\n",
       "      <th></th>\n",
       "      <th>limit_balance</th>\n",
       "      <th>sex</th>\n",
       "      <th>education_level</th>\n",
       "      <th>marital_status</th>\n",
       "      <th>age</th>\n",
       "      <th>pay_0</th>\n",
       "      <th>pay_2</th>\n",
       "      <th>pay_3</th>\n",
       "      <th>pay_4</th>\n",
       "      <th>pay_5</th>\n",
       "      <th>...</th>\n",
       "      <th>bill_amt_3</th>\n",
       "      <th>bill_amt_4</th>\n",
       "      <th>bill_amt_5</th>\n",
       "      <th>bill_amt_6</th>\n",
       "      <th>pay_amt_1</th>\n",
       "      <th>pay_amt_2</th>\n",
       "      <th>pay_amt_3</th>\n",
       "      <th>pay_amt_4</th>\n",
       "      <th>pay_amt_5</th>\n",
       "      <th>pay_amt_6</th>\n",
       "    </tr>\n",
       "  </thead>\n",
       "  <tbody>\n",
       "    <tr>\n",
       "      <th>0</th>\n",
       "      <td>80000.0</td>\n",
       "      <td>1</td>\n",
       "      <td>6</td>\n",
       "      <td>1</td>\n",
       "      <td>54.0</td>\n",
       "      <td>0.0</td>\n",
       "      <td>0.0</td>\n",
       "      <td>0.0</td>\n",
       "      <td>0.0</td>\n",
       "      <td>0.0</td>\n",
       "      <td>...</td>\n",
       "      <td>62290.0</td>\n",
       "      <td>29296.0</td>\n",
       "      <td>26210.0</td>\n",
       "      <td>17643.0</td>\n",
       "      <td>2545.0</td>\n",
       "      <td>2208.0</td>\n",
       "      <td>1336.0</td>\n",
       "      <td>2232.0</td>\n",
       "      <td>542.0</td>\n",
       "      <td>348.0</td>\n",
       "    </tr>\n",
       "    <tr>\n",
       "      <th>1</th>\n",
       "      <td>200000.0</td>\n",
       "      <td>1</td>\n",
       "      <td>4</td>\n",
       "      <td>1</td>\n",
       "      <td>49.0</td>\n",
       "      <td>0.0</td>\n",
       "      <td>0.0</td>\n",
       "      <td>0.0</td>\n",
       "      <td>0.0</td>\n",
       "      <td>0.0</td>\n",
       "      <td>...</td>\n",
       "      <td>50942.0</td>\n",
       "      <td>50146.0</td>\n",
       "      <td>50235.0</td>\n",
       "      <td>48984.0</td>\n",
       "      <td>1689.0</td>\n",
       "      <td>2164.0</td>\n",
       "      <td>2500.0</td>\n",
       "      <td>3480.0</td>\n",
       "      <td>2500.0</td>\n",
       "      <td>3000.0</td>\n",
       "    </tr>\n",
       "    <tr>\n",
       "      <th>2</th>\n",
       "      <td>20000.0</td>\n",
       "      <td>2</td>\n",
       "      <td>6</td>\n",
       "      <td>2</td>\n",
       "      <td>22.0</td>\n",
       "      <td>0.0</td>\n",
       "      <td>0.0</td>\n",
       "      <td>0.0</td>\n",
       "      <td>0.0</td>\n",
       "      <td>0.0</td>\n",
       "      <td>...</td>\n",
       "      <td>15535.0</td>\n",
       "      <td>1434.0</td>\n",
       "      <td>500.0</td>\n",
       "      <td>0.0</td>\n",
       "      <td>4641.0</td>\n",
       "      <td>1019.0</td>\n",
       "      <td>900.0</td>\n",
       "      <td>0.0</td>\n",
       "      <td>1500.0</td>\n",
       "      <td>0.0</td>\n",
       "    </tr>\n",
       "    <tr>\n",
       "      <th>3</th>\n",
       "      <td>260000.0</td>\n",
       "      <td>2</td>\n",
       "      <td>4</td>\n",
       "      <td>2</td>\n",
       "      <td>33.0</td>\n",
       "      <td>0.0</td>\n",
       "      <td>0.0</td>\n",
       "      <td>0.0</td>\n",
       "      <td>0.0</td>\n",
       "      <td>0.0</td>\n",
       "      <td>...</td>\n",
       "      <td>27086.0</td>\n",
       "      <td>27821.0</td>\n",
       "      <td>30767.0</td>\n",
       "      <td>29890.0</td>\n",
       "      <td>5000.0</td>\n",
       "      <td>5000.0</td>\n",
       "      <td>1137.0</td>\n",
       "      <td>5000.0</td>\n",
       "      <td>1085.0</td>\n",
       "      <td>5000.0</td>\n",
       "    </tr>\n",
       "    <tr>\n",
       "      <th>4</th>\n",
       "      <td>150000.0</td>\n",
       "      <td>1</td>\n",
       "      <td>4</td>\n",
       "      <td>2</td>\n",
       "      <td>32.0</td>\n",
       "      <td>0.0</td>\n",
       "      <td>0.0</td>\n",
       "      <td>0.0</td>\n",
       "      <td>-1.0</td>\n",
       "      <td>0.0</td>\n",
       "      <td>...</td>\n",
       "      <td>161192.0</td>\n",
       "      <td>150464.0</td>\n",
       "      <td>143375.0</td>\n",
       "      <td>146411.0</td>\n",
       "      <td>4019.0</td>\n",
       "      <td>146896.0</td>\n",
       "      <td>157436.0</td>\n",
       "      <td>4600.0</td>\n",
       "      <td>4709.0</td>\n",
       "      <td>5600.0</td>\n",
       "    </tr>\n",
       "  </tbody>\n",
       "</table>\n",
       "<p>5 rows × 23 columns</p>\n",
       "</div>"
      ],
      "text/plain": [
       "   limit_balance  sex  education_level  marital_status   age  pay_0  pay_2  \\\n",
       "0        80000.0    1                6               1  54.0    0.0    0.0   \n",
       "1       200000.0    1                4               1  49.0    0.0    0.0   \n",
       "2        20000.0    2                6               2  22.0    0.0    0.0   \n",
       "3       260000.0    2                4               2  33.0    0.0    0.0   \n",
       "4       150000.0    1                4               2  32.0    0.0    0.0   \n",
       "\n",
       "   pay_3  pay_4  pay_5  ...  bill_amt_3  bill_amt_4  bill_amt_5  bill_amt_6  \\\n",
       "0    0.0    0.0    0.0  ...     62290.0     29296.0     26210.0     17643.0   \n",
       "1    0.0    0.0    0.0  ...     50942.0     50146.0     50235.0     48984.0   \n",
       "2    0.0    0.0    0.0  ...     15535.0      1434.0       500.0         0.0   \n",
       "3    0.0    0.0    0.0  ...     27086.0     27821.0     30767.0     29890.0   \n",
       "4    0.0   -1.0    0.0  ...    161192.0    150464.0    143375.0    146411.0   \n",
       "\n",
       "   pay_amt_1  pay_amt_2  pay_amt_3  pay_amt_4  pay_amt_5  pay_amt_6  \n",
       "0     2545.0     2208.0     1336.0     2232.0      542.0      348.0  \n",
       "1     1689.0     2164.0     2500.0     3480.0     2500.0     3000.0  \n",
       "2     4641.0     1019.0      900.0        0.0     1500.0        0.0  \n",
       "3     5000.0     5000.0     1137.0     5000.0     1085.0     5000.0  \n",
       "4     4019.0   146896.0   157436.0     4600.0     4709.0     5600.0  \n",
       "\n",
       "[5 rows x 23 columns]"
      ]
     },
     "execution_count": 17,
     "metadata": {},
     "output_type": "execute_result"
    }
   ],
   "source": [
    "# Menampilkan 5 data teratas dari variabel X\n",
    "X.head()"
   ]
  },
  {
   "cell_type": "code",
   "execution_count": 18,
   "metadata": {},
   "outputs": [
    {
     "data": {
      "text/plain": [
       "0    1\n",
       "1    0\n",
       "2    1\n",
       "3    0\n",
       "4    0\n",
       "Name: default_payment_next_month, dtype: int64"
      ]
     },
     "execution_count": 18,
     "metadata": {},
     "output_type": "execute_result"
    }
   ],
   "source": [
    "# Menampilkan 5 data teratas dari variabel y\n",
    "y.head()"
   ]
  },
  {
   "cell_type": "markdown",
   "metadata": {},
   "source": [
    "### Split Between Train-set and Test-set"
   ]
  },
  {
   "cell_type": "markdown",
   "metadata": {},
   "source": [
    "Lalu saya akan membagi menjadi `Train-set` dan `Test-set` untuk dilakukan evaluasi."
   ]
  },
  {
   "cell_type": "code",
   "execution_count": 19,
   "metadata": {},
   "outputs": [
    {
     "name": "stdout",
     "output_type": "stream",
     "text": [
      "X Train size :  (2667, 23)\n",
      "X Test size :  (297, 23)\n",
      "y Train size :  (2667,)\n",
      "y Test size :  (297,)\n"
     ]
    }
   ],
   "source": [
    "# Splitting between train set and test set\n",
    "X_train, X_test, y_train, y_test = train_test_split(X,y, test_size = 0.1, random_state = 11, stratify=y)\n",
    "\n",
    "# Print Test set and Train set size\n",
    "print('X Train size : ', X_train.shape)\n",
    "print('X Test size : ', X_test.shape)\n",
    "print('y Train size : ', y_train.shape)\n",
    "print('y Test size : ', y_test.shape)"
   ]
  },
  {
   "cell_type": "code",
   "execution_count": 20,
   "metadata": {},
   "outputs": [
    {
     "data": {
      "text/html": [
       "<div>\n",
       "<style scoped>\n",
       "    .dataframe tbody tr th:only-of-type {\n",
       "        vertical-align: middle;\n",
       "    }\n",
       "\n",
       "    .dataframe tbody tr th {\n",
       "        vertical-align: top;\n",
       "    }\n",
       "\n",
       "    .dataframe thead th {\n",
       "        text-align: right;\n",
       "    }\n",
       "</style>\n",
       "<table border=\"1\" class=\"dataframe\">\n",
       "  <thead>\n",
       "    <tr style=\"text-align: right;\">\n",
       "      <th></th>\n",
       "      <th>limit_balance</th>\n",
       "      <th>sex</th>\n",
       "      <th>education_level</th>\n",
       "      <th>marital_status</th>\n",
       "      <th>age</th>\n",
       "      <th>pay_0</th>\n",
       "      <th>pay_2</th>\n",
       "      <th>pay_3</th>\n",
       "      <th>pay_4</th>\n",
       "      <th>pay_5</th>\n",
       "      <th>...</th>\n",
       "      <th>bill_amt_3</th>\n",
       "      <th>bill_amt_4</th>\n",
       "      <th>bill_amt_5</th>\n",
       "      <th>bill_amt_6</th>\n",
       "      <th>pay_amt_1</th>\n",
       "      <th>pay_amt_2</th>\n",
       "      <th>pay_amt_3</th>\n",
       "      <th>pay_amt_4</th>\n",
       "      <th>pay_amt_5</th>\n",
       "      <th>pay_amt_6</th>\n",
       "    </tr>\n",
       "  </thead>\n",
       "  <tbody>\n",
       "    <tr>\n",
       "      <th>1969</th>\n",
       "      <td>240000.0</td>\n",
       "      <td>2</td>\n",
       "      <td>2</td>\n",
       "      <td>1</td>\n",
       "      <td>38.0</td>\n",
       "      <td>1.0</td>\n",
       "      <td>2.0</td>\n",
       "      <td>-1.0</td>\n",
       "      <td>2.0</td>\n",
       "      <td>2.0</td>\n",
       "      <td>...</td>\n",
       "      <td>189.0</td>\n",
       "      <td>189.0</td>\n",
       "      <td>1648.0</td>\n",
       "      <td>1459.0</td>\n",
       "      <td>899.0</td>\n",
       "      <td>198.0</td>\n",
       "      <td>0.0</td>\n",
       "      <td>1459.0</td>\n",
       "      <td>0.0</td>\n",
       "      <td>1250.0</td>\n",
       "    </tr>\n",
       "    <tr>\n",
       "      <th>1693</th>\n",
       "      <td>180000.0</td>\n",
       "      <td>2</td>\n",
       "      <td>1</td>\n",
       "      <td>1</td>\n",
       "      <td>53.0</td>\n",
       "      <td>-1.0</td>\n",
       "      <td>-1.0</td>\n",
       "      <td>-1.0</td>\n",
       "      <td>0.0</td>\n",
       "      <td>0.0</td>\n",
       "      <td>...</td>\n",
       "      <td>29366.0</td>\n",
       "      <td>5400.0</td>\n",
       "      <td>0.0</td>\n",
       "      <td>1599.0</td>\n",
       "      <td>1260.0</td>\n",
       "      <td>29366.0</td>\n",
       "      <td>54.0</td>\n",
       "      <td>0.0</td>\n",
       "      <td>1599.0</td>\n",
       "      <td>0.0</td>\n",
       "    </tr>\n",
       "    <tr>\n",
       "      <th>1194</th>\n",
       "      <td>50000.0</td>\n",
       "      <td>2</td>\n",
       "      <td>3</td>\n",
       "      <td>2</td>\n",
       "      <td>22.0</td>\n",
       "      <td>0.0</td>\n",
       "      <td>0.0</td>\n",
       "      <td>0.0</td>\n",
       "      <td>0.0</td>\n",
       "      <td>0.0</td>\n",
       "      <td>...</td>\n",
       "      <td>52148.0</td>\n",
       "      <td>32718.0</td>\n",
       "      <td>32096.0</td>\n",
       "      <td>30563.0</td>\n",
       "      <td>20007.0</td>\n",
       "      <td>3014.0</td>\n",
       "      <td>1309.0</td>\n",
       "      <td>5009.0</td>\n",
       "      <td>2008.0</td>\n",
       "      <td>4622.0</td>\n",
       "    </tr>\n",
       "    <tr>\n",
       "      <th>1831</th>\n",
       "      <td>50000.0</td>\n",
       "      <td>1</td>\n",
       "      <td>1</td>\n",
       "      <td>2</td>\n",
       "      <td>26.0</td>\n",
       "      <td>1.0</td>\n",
       "      <td>2.0</td>\n",
       "      <td>2.0</td>\n",
       "      <td>2.0</td>\n",
       "      <td>2.0</td>\n",
       "      <td>...</td>\n",
       "      <td>41167.0</td>\n",
       "      <td>41890.0</td>\n",
       "      <td>42605.0</td>\n",
       "      <td>41792.0</td>\n",
       "      <td>3000.0</td>\n",
       "      <td>1900.0</td>\n",
       "      <td>1700.0</td>\n",
       "      <td>1700.0</td>\n",
       "      <td>0.0</td>\n",
       "      <td>2500.0</td>\n",
       "    </tr>\n",
       "    <tr>\n",
       "      <th>255</th>\n",
       "      <td>100000.0</td>\n",
       "      <td>2</td>\n",
       "      <td>1</td>\n",
       "      <td>1</td>\n",
       "      <td>38.0</td>\n",
       "      <td>0.0</td>\n",
       "      <td>0.0</td>\n",
       "      <td>0.0</td>\n",
       "      <td>0.0</td>\n",
       "      <td>0.0</td>\n",
       "      <td>...</td>\n",
       "      <td>68566.0</td>\n",
       "      <td>65132.0</td>\n",
       "      <td>48738.0</td>\n",
       "      <td>51020.0</td>\n",
       "      <td>3000.0</td>\n",
       "      <td>5000.0</td>\n",
       "      <td>2436.0</td>\n",
       "      <td>3000.0</td>\n",
       "      <td>3000.0</td>\n",
       "      <td>2000.0</td>\n",
       "    </tr>\n",
       "  </tbody>\n",
       "</table>\n",
       "<p>5 rows × 23 columns</p>\n",
       "</div>"
      ],
      "text/plain": [
       "      limit_balance  sex  education_level  marital_status   age  pay_0  pay_2  \\\n",
       "1969       240000.0    2                2               1  38.0    1.0    2.0   \n",
       "1693       180000.0    2                1               1  53.0   -1.0   -1.0   \n",
       "1194        50000.0    2                3               2  22.0    0.0    0.0   \n",
       "1831        50000.0    1                1               2  26.0    1.0    2.0   \n",
       "255        100000.0    2                1               1  38.0    0.0    0.0   \n",
       "\n",
       "      pay_3  pay_4  pay_5  ...  bill_amt_3  bill_amt_4  bill_amt_5  \\\n",
       "1969   -1.0    2.0    2.0  ...       189.0       189.0      1648.0   \n",
       "1693   -1.0    0.0    0.0  ...     29366.0      5400.0         0.0   \n",
       "1194    0.0    0.0    0.0  ...     52148.0     32718.0     32096.0   \n",
       "1831    2.0    2.0    2.0  ...     41167.0     41890.0     42605.0   \n",
       "255     0.0    0.0    0.0  ...     68566.0     65132.0     48738.0   \n",
       "\n",
       "      bill_amt_6  pay_amt_1  pay_amt_2  pay_amt_3  pay_amt_4  pay_amt_5  \\\n",
       "1969      1459.0      899.0      198.0        0.0     1459.0        0.0   \n",
       "1693      1599.0     1260.0    29366.0       54.0        0.0     1599.0   \n",
       "1194     30563.0    20007.0     3014.0     1309.0     5009.0     2008.0   \n",
       "1831     41792.0     3000.0     1900.0     1700.0     1700.0        0.0   \n",
       "255      51020.0     3000.0     5000.0     2436.0     3000.0     3000.0   \n",
       "\n",
       "      pay_amt_6  \n",
       "1969     1250.0  \n",
       "1693        0.0  \n",
       "1194     4622.0  \n",
       "1831     2500.0  \n",
       "255      2000.0  \n",
       "\n",
       "[5 rows x 23 columns]"
      ]
     },
     "execution_count": 20,
     "metadata": {},
     "output_type": "execute_result"
    }
   ],
   "source": [
    "# Menampilkan 5 data teratas dari X_train\n",
    "X_train.head()"
   ]
  },
  {
   "cell_type": "code",
   "execution_count": 21,
   "metadata": {},
   "outputs": [
    {
     "data": {
      "text/html": [
       "<div>\n",
       "<style scoped>\n",
       "    .dataframe tbody tr th:only-of-type {\n",
       "        vertical-align: middle;\n",
       "    }\n",
       "\n",
       "    .dataframe tbody tr th {\n",
       "        vertical-align: top;\n",
       "    }\n",
       "\n",
       "    .dataframe thead th {\n",
       "        text-align: right;\n",
       "    }\n",
       "</style>\n",
       "<table border=\"1\" class=\"dataframe\">\n",
       "  <thead>\n",
       "    <tr style=\"text-align: right;\">\n",
       "      <th></th>\n",
       "      <th>limit_balance</th>\n",
       "      <th>sex</th>\n",
       "      <th>education_level</th>\n",
       "      <th>marital_status</th>\n",
       "      <th>age</th>\n",
       "      <th>pay_0</th>\n",
       "      <th>pay_2</th>\n",
       "      <th>pay_3</th>\n",
       "      <th>pay_4</th>\n",
       "      <th>pay_5</th>\n",
       "      <th>...</th>\n",
       "      <th>bill_amt_3</th>\n",
       "      <th>bill_amt_4</th>\n",
       "      <th>bill_amt_5</th>\n",
       "      <th>bill_amt_6</th>\n",
       "      <th>pay_amt_1</th>\n",
       "      <th>pay_amt_2</th>\n",
       "      <th>pay_amt_3</th>\n",
       "      <th>pay_amt_4</th>\n",
       "      <th>pay_amt_5</th>\n",
       "      <th>pay_amt_6</th>\n",
       "    </tr>\n",
       "  </thead>\n",
       "  <tbody>\n",
       "    <tr>\n",
       "      <th>2540</th>\n",
       "      <td>350000.0</td>\n",
       "      <td>1</td>\n",
       "      <td>1</td>\n",
       "      <td>1</td>\n",
       "      <td>49.0</td>\n",
       "      <td>-2.0</td>\n",
       "      <td>-2.0</td>\n",
       "      <td>-2.0</td>\n",
       "      <td>-2.0</td>\n",
       "      <td>-2.0</td>\n",
       "      <td>...</td>\n",
       "      <td>1518.0</td>\n",
       "      <td>4625.0</td>\n",
       "      <td>363.0</td>\n",
       "      <td>858.0</td>\n",
       "      <td>4213.0</td>\n",
       "      <td>1529.0</td>\n",
       "      <td>4713.0</td>\n",
       "      <td>363.0</td>\n",
       "      <td>858.0</td>\n",
       "      <td>566.0</td>\n",
       "    </tr>\n",
       "    <tr>\n",
       "      <th>2497</th>\n",
       "      <td>270000.0</td>\n",
       "      <td>2</td>\n",
       "      <td>2</td>\n",
       "      <td>1</td>\n",
       "      <td>35.0</td>\n",
       "      <td>-1.0</td>\n",
       "      <td>-1.0</td>\n",
       "      <td>-1.0</td>\n",
       "      <td>-1.0</td>\n",
       "      <td>-1.0</td>\n",
       "      <td>...</td>\n",
       "      <td>165.0</td>\n",
       "      <td>165.0</td>\n",
       "      <td>0.0</td>\n",
       "      <td>601.0</td>\n",
       "      <td>165.0</td>\n",
       "      <td>165.0</td>\n",
       "      <td>165.0</td>\n",
       "      <td>0.0</td>\n",
       "      <td>601.0</td>\n",
       "      <td>928.0</td>\n",
       "    </tr>\n",
       "    <tr>\n",
       "      <th>679</th>\n",
       "      <td>120000.0</td>\n",
       "      <td>2</td>\n",
       "      <td>2</td>\n",
       "      <td>2</td>\n",
       "      <td>37.0</td>\n",
       "      <td>0.0</td>\n",
       "      <td>0.0</td>\n",
       "      <td>0.0</td>\n",
       "      <td>0.0</td>\n",
       "      <td>0.0</td>\n",
       "      <td>...</td>\n",
       "      <td>99051.0</td>\n",
       "      <td>99927.0</td>\n",
       "      <td>101541.0</td>\n",
       "      <td>103379.0</td>\n",
       "      <td>4848.0</td>\n",
       "      <td>4877.0</td>\n",
       "      <td>3625.0</td>\n",
       "      <td>3600.0</td>\n",
       "      <td>3751.0</td>\n",
       "      <td>3900.0</td>\n",
       "    </tr>\n",
       "    <tr>\n",
       "      <th>1055</th>\n",
       "      <td>180000.0</td>\n",
       "      <td>1</td>\n",
       "      <td>2</td>\n",
       "      <td>1</td>\n",
       "      <td>40.0</td>\n",
       "      <td>1.0</td>\n",
       "      <td>2.0</td>\n",
       "      <td>0.0</td>\n",
       "      <td>0.0</td>\n",
       "      <td>0.0</td>\n",
       "      <td>...</td>\n",
       "      <td>130083.0</td>\n",
       "      <td>64398.0</td>\n",
       "      <td>62277.0</td>\n",
       "      <td>58216.0</td>\n",
       "      <td>1000.0</td>\n",
       "      <td>4052.0</td>\n",
       "      <td>2293.0</td>\n",
       "      <td>2295.0</td>\n",
       "      <td>2400.0</td>\n",
       "      <td>2110.0</td>\n",
       "    </tr>\n",
       "    <tr>\n",
       "      <th>262</th>\n",
       "      <td>100000.0</td>\n",
       "      <td>2</td>\n",
       "      <td>1</td>\n",
       "      <td>2</td>\n",
       "      <td>27.0</td>\n",
       "      <td>0.0</td>\n",
       "      <td>0.0</td>\n",
       "      <td>0.0</td>\n",
       "      <td>0.0</td>\n",
       "      <td>0.0</td>\n",
       "      <td>...</td>\n",
       "      <td>78343.0</td>\n",
       "      <td>79111.0</td>\n",
       "      <td>79993.0</td>\n",
       "      <td>81279.0</td>\n",
       "      <td>3000.0</td>\n",
       "      <td>3400.0</td>\n",
       "      <td>3000.0</td>\n",
       "      <td>3000.0</td>\n",
       "      <td>3000.0</td>\n",
       "      <td>3000.0</td>\n",
       "    </tr>\n",
       "  </tbody>\n",
       "</table>\n",
       "<p>5 rows × 23 columns</p>\n",
       "</div>"
      ],
      "text/plain": [
       "      limit_balance  sex  education_level  marital_status   age  pay_0  pay_2  \\\n",
       "2540       350000.0    1                1               1  49.0   -2.0   -2.0   \n",
       "2497       270000.0    2                2               1  35.0   -1.0   -1.0   \n",
       "679        120000.0    2                2               2  37.0    0.0    0.0   \n",
       "1055       180000.0    1                2               1  40.0    1.0    2.0   \n",
       "262        100000.0    2                1               2  27.0    0.0    0.0   \n",
       "\n",
       "      pay_3  pay_4  pay_5  ...  bill_amt_3  bill_amt_4  bill_amt_5  \\\n",
       "2540   -2.0   -2.0   -2.0  ...      1518.0      4625.0       363.0   \n",
       "2497   -1.0   -1.0   -1.0  ...       165.0       165.0         0.0   \n",
       "679     0.0    0.0    0.0  ...     99051.0     99927.0    101541.0   \n",
       "1055    0.0    0.0    0.0  ...    130083.0     64398.0     62277.0   \n",
       "262     0.0    0.0    0.0  ...     78343.0     79111.0     79993.0   \n",
       "\n",
       "      bill_amt_6  pay_amt_1  pay_amt_2  pay_amt_3  pay_amt_4  pay_amt_5  \\\n",
       "2540       858.0     4213.0     1529.0     4713.0      363.0      858.0   \n",
       "2497       601.0      165.0      165.0      165.0        0.0      601.0   \n",
       "679     103379.0     4848.0     4877.0     3625.0     3600.0     3751.0   \n",
       "1055     58216.0     1000.0     4052.0     2293.0     2295.0     2400.0   \n",
       "262      81279.0     3000.0     3400.0     3000.0     3000.0     3000.0   \n",
       "\n",
       "      pay_amt_6  \n",
       "2540      566.0  \n",
       "2497      928.0  \n",
       "679      3900.0  \n",
       "1055     2110.0  \n",
       "262      3000.0  \n",
       "\n",
       "[5 rows x 23 columns]"
      ]
     },
     "execution_count": 21,
     "metadata": {},
     "output_type": "execute_result"
    }
   ],
   "source": [
    "# Menampilkan 5 data teratas dari X_test\n",
    "X_test.head()"
   ]
  },
  {
   "cell_type": "markdown",
   "metadata": {},
   "source": [
    "Setelah itu saya memisahkan antara `categorical` dengan `numereical` pada X_train ke dalam variable baru."
   ]
  },
  {
   "cell_type": "code",
   "execution_count": 22,
   "metadata": {},
   "outputs": [],
   "source": [
    "# Split kolom numerical dan categorical\n",
    "cat_col = X_train.select_dtypes(include='object').columns.tolist()\n",
    "num_col = X_train.select_dtypes(exclude='object').columns.tolist()"
   ]
  },
  {
   "cell_type": "markdown",
   "metadata": {},
   "source": [
    "Disini saya melakukan looping dengan bertujuan untuk memisahkan numerical dan categorical untuk dilakukan handling outlier dengan asumsi jumlah unique value yang dibawah 11 tidak akan dilakukan handling outlier."
   ]
  },
  {
   "cell_type": "code",
   "execution_count": 23,
   "metadata": {},
   "outputs": [
    {
     "name": "stdout",
     "output_type": "stream",
     "text": [
      "numerical columns: ['limit_balance', 'age', 'bill_amt_1', 'bill_amt_2', 'bill_amt_3', 'bill_amt_4', 'bill_amt_5', 'bill_amt_6', 'pay_amt_1', 'pay_amt_2', 'pay_amt_3', 'pay_amt_4', 'pay_amt_5', 'pay_amt_6']\n",
      "categorical numeric columns: ['sex', 'education_level', 'marital_status', 'pay_0', 'pay_2', 'pay_3', 'pay_4', 'pay_5', 'pay_6']\n",
      "None\n"
     ]
    }
   ],
   "source": [
    "numerical = []\n",
    "categorical_num = []\n",
    "\n",
    "# Loop melalui setiap kolom numerik dalam num_col\n",
    "for i in num_col:\n",
    "    if X_train[i].nunique()>11:\n",
    "        numerical.append(i)\n",
    "    else:\n",
    "        categorical_num.append(i)\n",
    "\n",
    "# Cetak daftar kolom numerik dan kolom numerical dan categorical\n",
    "print(f'numerical columns: {numerical}')\n",
    "print(print(f'categorical numeric columns: {categorical_num}'))"
   ]
  },
  {
   "cell_type": "markdown",
   "metadata": {},
   "source": [
    "### Handling Outlier"
   ]
  },
  {
   "cell_type": "markdown",
   "metadata": {},
   "source": [
    "Lalu saya akan melakukan handling outlier pada X_train untuk melihat apakah ada data yang tidak sesuai dengan data yang seharusnya."
   ]
  },
  {
   "cell_type": "code",
   "execution_count": 24,
   "metadata": {},
   "outputs": [
    {
     "name": "stdout",
     "output_type": "stream",
     "text": [
      "normal: []\n",
      "skew: ['age']\n",
      "extreme skew: ['limit_balance', 'bill_amt_1', 'bill_amt_2', 'bill_amt_3', 'bill_amt_4', 'bill_amt_5', 'bill_amt_6', 'pay_amt_1', 'pay_amt_2', 'pay_amt_3', 'pay_amt_4', 'pay_amt_5', 'pay_amt_6']\n"
     ]
    }
   ],
   "source": [
    "# Inisialisasi daftar untuk menampung fitur dengan tingkat skewness\n",
    "normal = []\n",
    "skew = []\n",
    "extreme_skew = []\n",
    "\n",
    "# Iterasi melalui fitur numerik\n",
    "for i in numerical:\n",
    "    # Menghitung skewness dari setiap fitur\n",
    "    skewness = X_train[i].skew()\n",
    "    # Memisahkan fitur berdasarkan tingkat skewness\n",
    "    if -0.5 < skewness < 0.5:\n",
    "        normal.append(i)\n",
    "    elif -1 <= skewness <= -0.5 or 0.5 <= skewness <=1:\n",
    "        skew.append(i)\n",
    "    elif skewness < 1 or skewness > 1:\n",
    "        extreme_skew.append(i)\n",
    "\n",
    "# Menampilkan hasil klasifikasi fitur berdasarkan skewness\n",
    "print('normal:', normal)\n",
    "print('skew:', skew)\n",
    "print('extreme skew:', extreme_skew)"
   ]
  },
  {
   "cell_type": "markdown",
   "metadata": {},
   "source": [
    "Dari data diatas terdapat `skew` dan `extreme skew` pada X_train maka akan dilakukan handling outlier."
   ]
  },
  {
   "cell_type": "markdown",
   "metadata": {},
   "source": [
    "Setelah itu saya melakukan `capping` terhadap nilai skew dan extreme skew pada X_train, dikarenakan jika melakukan drop data yang akan dihapus melebihi 5%."
   ]
  },
  {
   "cell_type": "code",
   "execution_count": 25,
   "metadata": {},
   "outputs": [],
   "source": [
    "# Capping the skewed distribution\n",
    "winsoriser_skewed = Winsorizer(capping_method='iqr',\n",
    "                             tail='both',\n",
    "                             fold=1.5,\n",
    "                             variables=skew)\n",
    "\n",
    "# Capping the extreme skewed distribution\n",
    "winsoriser_extream_skewed = Winsorizer(capping_method='iqr',\n",
    "                             tail='both',\n",
    "                             fold=3,\n",
    "                             variables=extreme_skew)"
   ]
  },
  {
   "cell_type": "code",
   "execution_count": 26,
   "metadata": {},
   "outputs": [],
   "source": [
    "# Menggunakan Winsorizer untuk mengatasi skewed pada X_train dan X_test\n",
    "X_train = winsoriser_skewed.fit_transform(X_train)\n",
    "\n",
    "# Menggunakan Winsorizer untuk mengatasi extreme skewed pada X_train dan X_test\n",
    "X_train = winsoriser_extream_skewed.fit_transform(X_train)"
   ]
  },
  {
   "cell_type": "markdown",
   "metadata": {},
   "source": [
    "### Missing Value Handling"
   ]
  },
  {
   "cell_type": "markdown",
   "metadata": {},
   "source": [
    "Pada proses handling missing value ini saya hanya akan pengecekan missing value, dikarenakan tidak adanya missing value pada dataset."
   ]
  },
  {
   "cell_type": "code",
   "execution_count": 27,
   "metadata": {},
   "outputs": [
    {
     "data": {
      "text/plain": [
       "limit_balance      0\n",
       "sex                0\n",
       "education_level    0\n",
       "marital_status     0\n",
       "age                0\n",
       "pay_0              0\n",
       "pay_2              0\n",
       "pay_3              0\n",
       "pay_4              0\n",
       "pay_5              0\n",
       "pay_6              0\n",
       "bill_amt_1         0\n",
       "bill_amt_2         0\n",
       "bill_amt_3         0\n",
       "bill_amt_4         0\n",
       "bill_amt_5         0\n",
       "bill_amt_6         0\n",
       "pay_amt_1          0\n",
       "pay_amt_2          0\n",
       "pay_amt_3          0\n",
       "pay_amt_4          0\n",
       "pay_amt_5          0\n",
       "pay_amt_6          0\n",
       "dtype: int64"
      ]
     },
     "execution_count": 27,
     "metadata": {},
     "output_type": "execute_result"
    }
   ],
   "source": [
    "# Check missing value in X_train\n",
    "X_train.isnull().sum()"
   ]
  },
  {
   "cell_type": "code",
   "execution_count": 28,
   "metadata": {},
   "outputs": [
    {
     "data": {
      "text/plain": [
       "limit_balance      0\n",
       "sex                0\n",
       "education_level    0\n",
       "marital_status     0\n",
       "age                0\n",
       "pay_0              0\n",
       "pay_2              0\n",
       "pay_3              0\n",
       "pay_4              0\n",
       "pay_5              0\n",
       "pay_6              0\n",
       "bill_amt_1         0\n",
       "bill_amt_2         0\n",
       "bill_amt_3         0\n",
       "bill_amt_4         0\n",
       "bill_amt_5         0\n",
       "bill_amt_6         0\n",
       "pay_amt_1          0\n",
       "pay_amt_2          0\n",
       "pay_amt_3          0\n",
       "pay_amt_4          0\n",
       "pay_amt_5          0\n",
       "pay_amt_6          0\n",
       "dtype: int64"
      ]
     },
     "execution_count": 28,
     "metadata": {},
     "output_type": "execute_result"
    }
   ],
   "source": [
    "# Check missing value in X_test\n",
    "X_test.isnull().sum()"
   ]
  },
  {
   "cell_type": "code",
   "execution_count": 29,
   "metadata": {},
   "outputs": [
    {
     "data": {
      "text/plain": [
       "0"
      ]
     },
     "execution_count": 29,
     "metadata": {},
     "output_type": "execute_result"
    }
   ],
   "source": [
    "# Check missing value in y_test\n",
    "y_test.isnull().sum()"
   ]
  },
  {
   "cell_type": "code",
   "execution_count": 30,
   "metadata": {},
   "outputs": [
    {
     "data": {
      "text/plain": [
       "0"
      ]
     },
     "execution_count": 30,
     "metadata": {},
     "output_type": "execute_result"
    }
   ],
   "source": [
    "# Check missing value in y_train\n",
    "y_train.isnull().sum()"
   ]
  },
  {
   "cell_type": "markdown",
   "metadata": {},
   "source": [
    "### Feature Selection"
   ]
  },
  {
   "cell_type": "markdown",
   "metadata": {},
   "source": [
    "Pada proses ini saya akan mengecek korelasi pada variabel independen terhadap variabel dependen untuk melakukan `feature selection`."
   ]
  },
  {
   "cell_type": "markdown",
   "metadata": {},
   "source": [
    "#### Correlation for Feature Selection"
   ]
  },
  {
   "cell_type": "markdown",
   "metadata": {},
   "source": [
    "Saya akan melakukan pengecekan korelasi dengan menggunakan fungsi `phik_matix`."
   ]
  },
  {
   "cell_type": "code",
   "execution_count": 31,
   "metadata": {},
   "outputs": [
    {
     "name": "stdout",
     "output_type": "stream",
     "text": [
      "interval columns not set, guessing: ['limit_balance', 'sex', 'education_level', 'marital_status', 'age', 'pay_0', 'pay_2', 'pay_3', 'pay_4', 'pay_5', 'pay_6', 'bill_amt_1', 'bill_amt_2', 'bill_amt_3', 'bill_amt_4', 'bill_amt_5', 'bill_amt_6', 'pay_amt_1', 'pay_amt_2', 'pay_amt_3', 'pay_amt_4', 'pay_amt_5', 'pay_amt_6', 'default_payment_next_month']\n"
     ]
    },
    {
     "data": {
      "text/plain": [
       "limit_balance                 0.204852\n",
       "sex                           0.000000\n",
       "education_level               0.082427\n",
       "marital_status                0.039454\n",
       "age                           0.041598\n",
       "pay_0                         0.594911\n",
       "pay_2                         0.466395\n",
       "pay_3                         0.333710\n",
       "pay_4                         0.423419\n",
       "pay_5                         0.422944\n",
       "pay_6                         0.394252\n",
       "bill_amt_1                    0.083305\n",
       "bill_amt_2                    0.091290\n",
       "bill_amt_3                    0.047981\n",
       "bill_amt_4                    0.068587\n",
       "bill_amt_5                    0.053063\n",
       "bill_amt_6                    0.041598\n",
       "pay_amt_1                     0.168630\n",
       "pay_amt_2                     0.191199\n",
       "pay_amt_3                     0.141073\n",
       "pay_amt_4                     0.148800\n",
       "pay_amt_5                     0.146262\n",
       "pay_amt_6                     0.162483\n",
       "default_payment_next_month    1.000000\n",
       "Name: default_payment_next_month, dtype: float64"
      ]
     },
     "execution_count": 31,
     "metadata": {},
     "output_type": "execute_result"
    }
   ],
   "source": [
    "# Menggabungkan data pelatihan (fitur dari set_1 dan target)\n",
    "combined_train_data = pd.concat([X_train, y_train], axis=1)\n",
    "phik_overview = combined_train_data.phik_matrix()\n",
    "phik_overview ['default_payment_next_month']"
   ]
  },
  {
   "cell_type": "markdown",
   "metadata": {},
   "source": [
    "Lalu saya mengambil nilai korelasi dengan `threshold >30%`."
   ]
  },
  {
   "cell_type": "code",
   "execution_count": 32,
   "metadata": {},
   "outputs": [
    {
     "data": {
      "text/plain": [
       "['pay_0', 'pay_2', 'pay_3', 'pay_4', 'pay_5', 'pay_6']"
      ]
     },
     "execution_count": 32,
     "metadata": {},
     "output_type": "execute_result"
    }
   ],
   "source": [
    "# Menggambil korelasi dengan threshold 20%\n",
    "phik_overview['default_payment_next_month']\n",
    "features =[]\n",
    "for i in X_train.columns.tolist():\n",
    "    if phik_overview['default_payment_next_month'][i]> 0.3:\n",
    "        features.append(i)\n",
    "        \n",
    "features"
   ]
  },
  {
   "cell_type": "markdown",
   "metadata": {},
   "source": [
    "Setelah itu saya memasukan hasil feature selection kedalam varibel baru."
   ]
  },
  {
   "cell_type": "code",
   "execution_count": 33,
   "metadata": {},
   "outputs": [],
   "source": [
    "# Variable baru untuk dimasukan ke X_train\n",
    "X_train_features = X_train[features]\n",
    "X_test_features = X_test[features]"
   ]
  },
  {
   "cell_type": "code",
   "execution_count": 34,
   "metadata": {},
   "outputs": [
    {
     "data": {
      "text/html": [
       "<div>\n",
       "<style scoped>\n",
       "    .dataframe tbody tr th:only-of-type {\n",
       "        vertical-align: middle;\n",
       "    }\n",
       "\n",
       "    .dataframe tbody tr th {\n",
       "        vertical-align: top;\n",
       "    }\n",
       "\n",
       "    .dataframe thead th {\n",
       "        text-align: right;\n",
       "    }\n",
       "</style>\n",
       "<table border=\"1\" class=\"dataframe\">\n",
       "  <thead>\n",
       "    <tr style=\"text-align: right;\">\n",
       "      <th></th>\n",
       "      <th>pay_0</th>\n",
       "      <th>pay_2</th>\n",
       "      <th>pay_3</th>\n",
       "      <th>pay_4</th>\n",
       "      <th>pay_5</th>\n",
       "      <th>pay_6</th>\n",
       "    </tr>\n",
       "  </thead>\n",
       "  <tbody>\n",
       "    <tr>\n",
       "      <th>1969</th>\n",
       "      <td>1.0</td>\n",
       "      <td>2.0</td>\n",
       "      <td>-1.0</td>\n",
       "      <td>2.0</td>\n",
       "      <td>2.0</td>\n",
       "      <td>2.0</td>\n",
       "    </tr>\n",
       "    <tr>\n",
       "      <th>1693</th>\n",
       "      <td>-1.0</td>\n",
       "      <td>-1.0</td>\n",
       "      <td>-1.0</td>\n",
       "      <td>0.0</td>\n",
       "      <td>0.0</td>\n",
       "      <td>-1.0</td>\n",
       "    </tr>\n",
       "    <tr>\n",
       "      <th>1194</th>\n",
       "      <td>0.0</td>\n",
       "      <td>0.0</td>\n",
       "      <td>0.0</td>\n",
       "      <td>0.0</td>\n",
       "      <td>0.0</td>\n",
       "      <td>0.0</td>\n",
       "    </tr>\n",
       "    <tr>\n",
       "      <th>1831</th>\n",
       "      <td>1.0</td>\n",
       "      <td>2.0</td>\n",
       "      <td>2.0</td>\n",
       "      <td>2.0</td>\n",
       "      <td>2.0</td>\n",
       "      <td>2.0</td>\n",
       "    </tr>\n",
       "    <tr>\n",
       "      <th>255</th>\n",
       "      <td>0.0</td>\n",
       "      <td>0.0</td>\n",
       "      <td>0.0</td>\n",
       "      <td>0.0</td>\n",
       "      <td>0.0</td>\n",
       "      <td>0.0</td>\n",
       "    </tr>\n",
       "  </tbody>\n",
       "</table>\n",
       "</div>"
      ],
      "text/plain": [
       "      pay_0  pay_2  pay_3  pay_4  pay_5  pay_6\n",
       "1969    1.0    2.0   -1.0    2.0    2.0    2.0\n",
       "1693   -1.0   -1.0   -1.0    0.0    0.0   -1.0\n",
       "1194    0.0    0.0    0.0    0.0    0.0    0.0\n",
       "1831    1.0    2.0    2.0    2.0    2.0    2.0\n",
       "255     0.0    0.0    0.0    0.0    0.0    0.0"
      ]
     },
     "execution_count": 34,
     "metadata": {},
     "output_type": "execute_result"
    }
   ],
   "source": [
    "# Menampilkan lima baris pertama dari X_train_features\n",
    "X_train_features.head()"
   ]
  },
  {
   "cell_type": "code",
   "execution_count": 35,
   "metadata": {},
   "outputs": [
    {
     "data": {
      "text/html": [
       "<div>\n",
       "<style scoped>\n",
       "    .dataframe tbody tr th:only-of-type {\n",
       "        vertical-align: middle;\n",
       "    }\n",
       "\n",
       "    .dataframe tbody tr th {\n",
       "        vertical-align: top;\n",
       "    }\n",
       "\n",
       "    .dataframe thead th {\n",
       "        text-align: right;\n",
       "    }\n",
       "</style>\n",
       "<table border=\"1\" class=\"dataframe\">\n",
       "  <thead>\n",
       "    <tr style=\"text-align: right;\">\n",
       "      <th></th>\n",
       "      <th>pay_0</th>\n",
       "      <th>pay_2</th>\n",
       "      <th>pay_3</th>\n",
       "      <th>pay_4</th>\n",
       "      <th>pay_5</th>\n",
       "      <th>pay_6</th>\n",
       "    </tr>\n",
       "  </thead>\n",
       "  <tbody>\n",
       "    <tr>\n",
       "      <th>2540</th>\n",
       "      <td>-2.0</td>\n",
       "      <td>-2.0</td>\n",
       "      <td>-2.0</td>\n",
       "      <td>-2.0</td>\n",
       "      <td>-2.0</td>\n",
       "      <td>-2.0</td>\n",
       "    </tr>\n",
       "    <tr>\n",
       "      <th>2497</th>\n",
       "      <td>-1.0</td>\n",
       "      <td>-1.0</td>\n",
       "      <td>-1.0</td>\n",
       "      <td>-1.0</td>\n",
       "      <td>-1.0</td>\n",
       "      <td>-1.0</td>\n",
       "    </tr>\n",
       "    <tr>\n",
       "      <th>679</th>\n",
       "      <td>0.0</td>\n",
       "      <td>0.0</td>\n",
       "      <td>0.0</td>\n",
       "      <td>0.0</td>\n",
       "      <td>0.0</td>\n",
       "      <td>0.0</td>\n",
       "    </tr>\n",
       "    <tr>\n",
       "      <th>1055</th>\n",
       "      <td>1.0</td>\n",
       "      <td>2.0</td>\n",
       "      <td>0.0</td>\n",
       "      <td>0.0</td>\n",
       "      <td>0.0</td>\n",
       "      <td>0.0</td>\n",
       "    </tr>\n",
       "    <tr>\n",
       "      <th>262</th>\n",
       "      <td>0.0</td>\n",
       "      <td>0.0</td>\n",
       "      <td>0.0</td>\n",
       "      <td>0.0</td>\n",
       "      <td>0.0</td>\n",
       "      <td>0.0</td>\n",
       "    </tr>\n",
       "  </tbody>\n",
       "</table>\n",
       "</div>"
      ],
      "text/plain": [
       "      pay_0  pay_2  pay_3  pay_4  pay_5  pay_6\n",
       "2540   -2.0   -2.0   -2.0   -2.0   -2.0   -2.0\n",
       "2497   -1.0   -1.0   -1.0   -1.0   -1.0   -1.0\n",
       "679     0.0    0.0    0.0    0.0    0.0    0.0\n",
       "1055    1.0    2.0    0.0    0.0    0.0    0.0\n",
       "262     0.0    0.0    0.0    0.0    0.0    0.0"
      ]
     },
     "execution_count": 35,
     "metadata": {},
     "output_type": "execute_result"
    }
   ],
   "source": [
    "# Menampilkan lima baris pertama dari X_test_features\n",
    "X_test_features.head()"
   ]
  },
  {
   "cell_type": "markdown",
   "metadata": {},
   "source": [
    "### Split Between Numerical and Categorical Column"
   ]
  },
  {
   "cell_type": "markdown",
   "metadata": {},
   "source": [
    "Kemudian saya akan memisahkan antara `numerical` dan `categorical` setelah dilakukan proses feature selection."
   ]
  },
  {
   "cell_type": "code",
   "execution_count": 36,
   "metadata": {},
   "outputs": [
    {
     "name": "stdout",
     "output_type": "stream",
     "text": [
      "numerical columns: []\n",
      "categorical ordinal columns: ['pay_0', 'pay_2', 'pay_3', 'pay_4', 'pay_5', 'pay_6']\n"
     ]
    }
   ],
   "source": [
    "# List of numerical features\n",
    "num_col_features = []\n",
    "print(f'numerical columns: {num_col_features}')\n",
    "\n",
    "# List of categorical ordinal features\n",
    "cat_ordinal_features = ['pay_0','pay_2','pay_3','pay_4','pay_5','pay_6']\n",
    "print(f'categorical ordinal columns: {cat_ordinal_features}')"
   ]
  },
  {
   "cell_type": "markdown",
   "metadata": {},
   "source": [
    "Setelah dipisahkan menjadi numerical dan categorical, saya akan memasukannya ke dalam X_train dan X_test."
   ]
  },
  {
   "cell_type": "code",
   "execution_count": 37,
   "metadata": {},
   "outputs": [],
   "source": [
    "# Split train test based on column types\n",
    "X_train_num = X_train_features[num_col_features]\n",
    "X_test_num = X_test_features[num_col_features]\n",
    "\n",
    "X_train_cat = X_train_features[cat_ordinal_features]\n",
    "X_test_cat = X_test_features[cat_ordinal_features]"
   ]
  },
  {
   "cell_type": "code",
   "execution_count": 38,
   "metadata": {},
   "outputs": [
    {
     "data": {
      "text/html": [
       "<div>\n",
       "<style scoped>\n",
       "    .dataframe tbody tr th:only-of-type {\n",
       "        vertical-align: middle;\n",
       "    }\n",
       "\n",
       "    .dataframe tbody tr th {\n",
       "        vertical-align: top;\n",
       "    }\n",
       "\n",
       "    .dataframe thead th {\n",
       "        text-align: right;\n",
       "    }\n",
       "</style>\n",
       "<table border=\"1\" class=\"dataframe\">\n",
       "  <thead>\n",
       "    <tr style=\"text-align: right;\">\n",
       "      <th></th>\n",
       "    </tr>\n",
       "  </thead>\n",
       "  <tbody>\n",
       "    <tr>\n",
       "      <th>1969</th>\n",
       "    </tr>\n",
       "    <tr>\n",
       "      <th>1693</th>\n",
       "    </tr>\n",
       "    <tr>\n",
       "      <th>1194</th>\n",
       "    </tr>\n",
       "    <tr>\n",
       "      <th>1831</th>\n",
       "    </tr>\n",
       "    <tr>\n",
       "      <th>255</th>\n",
       "    </tr>\n",
       "  </tbody>\n",
       "</table>\n",
       "</div>"
      ],
      "text/plain": [
       "Empty DataFrame\n",
       "Columns: []\n",
       "Index: [1969, 1693, 1194, 1831, 255]"
      ]
     },
     "execution_count": 38,
     "metadata": {},
     "output_type": "execute_result"
    }
   ],
   "source": [
    "# Cek value 5 teratas dari X_train_num\n",
    "X_train_num.head()"
   ]
  },
  {
   "cell_type": "code",
   "execution_count": 39,
   "metadata": {},
   "outputs": [
    {
     "data": {
      "text/html": [
       "<div>\n",
       "<style scoped>\n",
       "    .dataframe tbody tr th:only-of-type {\n",
       "        vertical-align: middle;\n",
       "    }\n",
       "\n",
       "    .dataframe tbody tr th {\n",
       "        vertical-align: top;\n",
       "    }\n",
       "\n",
       "    .dataframe thead th {\n",
       "        text-align: right;\n",
       "    }\n",
       "</style>\n",
       "<table border=\"1\" class=\"dataframe\">\n",
       "  <thead>\n",
       "    <tr style=\"text-align: right;\">\n",
       "      <th></th>\n",
       "      <th>pay_0</th>\n",
       "      <th>pay_2</th>\n",
       "      <th>pay_3</th>\n",
       "      <th>pay_4</th>\n",
       "      <th>pay_5</th>\n",
       "      <th>pay_6</th>\n",
       "    </tr>\n",
       "  </thead>\n",
       "  <tbody>\n",
       "    <tr>\n",
       "      <th>1969</th>\n",
       "      <td>1.0</td>\n",
       "      <td>2.0</td>\n",
       "      <td>-1.0</td>\n",
       "      <td>2.0</td>\n",
       "      <td>2.0</td>\n",
       "      <td>2.0</td>\n",
       "    </tr>\n",
       "    <tr>\n",
       "      <th>1693</th>\n",
       "      <td>-1.0</td>\n",
       "      <td>-1.0</td>\n",
       "      <td>-1.0</td>\n",
       "      <td>0.0</td>\n",
       "      <td>0.0</td>\n",
       "      <td>-1.0</td>\n",
       "    </tr>\n",
       "    <tr>\n",
       "      <th>1194</th>\n",
       "      <td>0.0</td>\n",
       "      <td>0.0</td>\n",
       "      <td>0.0</td>\n",
       "      <td>0.0</td>\n",
       "      <td>0.0</td>\n",
       "      <td>0.0</td>\n",
       "    </tr>\n",
       "    <tr>\n",
       "      <th>1831</th>\n",
       "      <td>1.0</td>\n",
       "      <td>2.0</td>\n",
       "      <td>2.0</td>\n",
       "      <td>2.0</td>\n",
       "      <td>2.0</td>\n",
       "      <td>2.0</td>\n",
       "    </tr>\n",
       "    <tr>\n",
       "      <th>255</th>\n",
       "      <td>0.0</td>\n",
       "      <td>0.0</td>\n",
       "      <td>0.0</td>\n",
       "      <td>0.0</td>\n",
       "      <td>0.0</td>\n",
       "      <td>0.0</td>\n",
       "    </tr>\n",
       "  </tbody>\n",
       "</table>\n",
       "</div>"
      ],
      "text/plain": [
       "      pay_0  pay_2  pay_3  pay_4  pay_5  pay_6\n",
       "1969    1.0    2.0   -1.0    2.0    2.0    2.0\n",
       "1693   -1.0   -1.0   -1.0    0.0    0.0   -1.0\n",
       "1194    0.0    0.0    0.0    0.0    0.0    0.0\n",
       "1831    1.0    2.0    2.0    2.0    2.0    2.0\n",
       "255     0.0    0.0    0.0    0.0    0.0    0.0"
      ]
     },
     "execution_count": 39,
     "metadata": {},
     "output_type": "execute_result"
    }
   ],
   "source": [
    "# Cek value 5 teratas dari X_train_cat\n",
    "X_train_cat.head()"
   ]
  },
  {
   "cell_type": "markdown",
   "metadata": {},
   "source": [
    "Lalu saya akan menggabungkan kedua file ke dalam variabel `X_train_final` dan `X_test_final`."
   ]
  },
  {
   "cell_type": "code",
   "execution_count": 40,
   "metadata": {},
   "outputs": [],
   "source": [
    "# Gabungkan kolom numerik dan kategorikal menjadi X_train_final\n",
    "X_train_final = pd.concat([X_train_num, X_train_cat], axis=1)\n",
    "\n",
    "# Gabungkan kolom numerik dan kategorikal menjadi X_test_final\n",
    "X_test_final = pd.concat([X_test_num, X_test_cat], axis=1)"
   ]
  },
  {
   "cell_type": "code",
   "execution_count": 41,
   "metadata": {},
   "outputs": [
    {
     "data": {
      "text/html": [
       "<div>\n",
       "<style scoped>\n",
       "    .dataframe tbody tr th:only-of-type {\n",
       "        vertical-align: middle;\n",
       "    }\n",
       "\n",
       "    .dataframe tbody tr th {\n",
       "        vertical-align: top;\n",
       "    }\n",
       "\n",
       "    .dataframe thead th {\n",
       "        text-align: right;\n",
       "    }\n",
       "</style>\n",
       "<table border=\"1\" class=\"dataframe\">\n",
       "  <thead>\n",
       "    <tr style=\"text-align: right;\">\n",
       "      <th></th>\n",
       "      <th>pay_0</th>\n",
       "      <th>pay_2</th>\n",
       "      <th>pay_3</th>\n",
       "      <th>pay_4</th>\n",
       "      <th>pay_5</th>\n",
       "      <th>pay_6</th>\n",
       "    </tr>\n",
       "  </thead>\n",
       "  <tbody>\n",
       "    <tr>\n",
       "      <th>1969</th>\n",
       "      <td>1.0</td>\n",
       "      <td>2.0</td>\n",
       "      <td>-1.0</td>\n",
       "      <td>2.0</td>\n",
       "      <td>2.0</td>\n",
       "      <td>2.0</td>\n",
       "    </tr>\n",
       "    <tr>\n",
       "      <th>1693</th>\n",
       "      <td>-1.0</td>\n",
       "      <td>-1.0</td>\n",
       "      <td>-1.0</td>\n",
       "      <td>0.0</td>\n",
       "      <td>0.0</td>\n",
       "      <td>-1.0</td>\n",
       "    </tr>\n",
       "    <tr>\n",
       "      <th>1194</th>\n",
       "      <td>0.0</td>\n",
       "      <td>0.0</td>\n",
       "      <td>0.0</td>\n",
       "      <td>0.0</td>\n",
       "      <td>0.0</td>\n",
       "      <td>0.0</td>\n",
       "    </tr>\n",
       "    <tr>\n",
       "      <th>1831</th>\n",
       "      <td>1.0</td>\n",
       "      <td>2.0</td>\n",
       "      <td>2.0</td>\n",
       "      <td>2.0</td>\n",
       "      <td>2.0</td>\n",
       "      <td>2.0</td>\n",
       "    </tr>\n",
       "    <tr>\n",
       "      <th>255</th>\n",
       "      <td>0.0</td>\n",
       "      <td>0.0</td>\n",
       "      <td>0.0</td>\n",
       "      <td>0.0</td>\n",
       "      <td>0.0</td>\n",
       "      <td>0.0</td>\n",
       "    </tr>\n",
       "  </tbody>\n",
       "</table>\n",
       "</div>"
      ],
      "text/plain": [
       "      pay_0  pay_2  pay_3  pay_4  pay_5  pay_6\n",
       "1969    1.0    2.0   -1.0    2.0    2.0    2.0\n",
       "1693   -1.0   -1.0   -1.0    0.0    0.0   -1.0\n",
       "1194    0.0    0.0    0.0    0.0    0.0    0.0\n",
       "1831    1.0    2.0    2.0    2.0    2.0    2.0\n",
       "255     0.0    0.0    0.0    0.0    0.0    0.0"
      ]
     },
     "execution_count": 41,
     "metadata": {},
     "output_type": "execute_result"
    }
   ],
   "source": [
    "# Menampilkan lima baris pertama dari X_train_final\n",
    "X_train_final.head()"
   ]
  },
  {
   "cell_type": "code",
   "execution_count": 42,
   "metadata": {},
   "outputs": [
    {
     "data": {
      "text/html": [
       "<div>\n",
       "<style scoped>\n",
       "    .dataframe tbody tr th:only-of-type {\n",
       "        vertical-align: middle;\n",
       "    }\n",
       "\n",
       "    .dataframe tbody tr th {\n",
       "        vertical-align: top;\n",
       "    }\n",
       "\n",
       "    .dataframe thead th {\n",
       "        text-align: right;\n",
       "    }\n",
       "</style>\n",
       "<table border=\"1\" class=\"dataframe\">\n",
       "  <thead>\n",
       "    <tr style=\"text-align: right;\">\n",
       "      <th></th>\n",
       "      <th>pay_0</th>\n",
       "      <th>pay_2</th>\n",
       "      <th>pay_3</th>\n",
       "      <th>pay_4</th>\n",
       "      <th>pay_5</th>\n",
       "      <th>pay_6</th>\n",
       "    </tr>\n",
       "  </thead>\n",
       "  <tbody>\n",
       "    <tr>\n",
       "      <th>2540</th>\n",
       "      <td>-2.0</td>\n",
       "      <td>-2.0</td>\n",
       "      <td>-2.0</td>\n",
       "      <td>-2.0</td>\n",
       "      <td>-2.0</td>\n",
       "      <td>-2.0</td>\n",
       "    </tr>\n",
       "    <tr>\n",
       "      <th>2497</th>\n",
       "      <td>-1.0</td>\n",
       "      <td>-1.0</td>\n",
       "      <td>-1.0</td>\n",
       "      <td>-1.0</td>\n",
       "      <td>-1.0</td>\n",
       "      <td>-1.0</td>\n",
       "    </tr>\n",
       "    <tr>\n",
       "      <th>679</th>\n",
       "      <td>0.0</td>\n",
       "      <td>0.0</td>\n",
       "      <td>0.0</td>\n",
       "      <td>0.0</td>\n",
       "      <td>0.0</td>\n",
       "      <td>0.0</td>\n",
       "    </tr>\n",
       "    <tr>\n",
       "      <th>1055</th>\n",
       "      <td>1.0</td>\n",
       "      <td>2.0</td>\n",
       "      <td>0.0</td>\n",
       "      <td>0.0</td>\n",
       "      <td>0.0</td>\n",
       "      <td>0.0</td>\n",
       "    </tr>\n",
       "    <tr>\n",
       "      <th>262</th>\n",
       "      <td>0.0</td>\n",
       "      <td>0.0</td>\n",
       "      <td>0.0</td>\n",
       "      <td>0.0</td>\n",
       "      <td>0.0</td>\n",
       "      <td>0.0</td>\n",
       "    </tr>\n",
       "  </tbody>\n",
       "</table>\n",
       "</div>"
      ],
      "text/plain": [
       "      pay_0  pay_2  pay_3  pay_4  pay_5  pay_6\n",
       "2540   -2.0   -2.0   -2.0   -2.0   -2.0   -2.0\n",
       "2497   -1.0   -1.0   -1.0   -1.0   -1.0   -1.0\n",
       "679     0.0    0.0    0.0    0.0    0.0    0.0\n",
       "1055    1.0    2.0    0.0    0.0    0.0    0.0\n",
       "262     0.0    0.0    0.0    0.0    0.0    0.0"
      ]
     },
     "execution_count": 42,
     "metadata": {},
     "output_type": "execute_result"
    }
   ],
   "source": [
    "# Menampilkan lima baris pertama dari X_test_final\n",
    "X_test_final.head()"
   ]
  },
  {
   "cell_type": "markdown",
   "metadata": {},
   "source": [
    "# vii. Model Definiton"
   ]
  },
  {
   "cell_type": "markdown",
   "metadata": {},
   "source": [
    "Lalu saya akan melakukan `pipeline` dengan tujuan menggabungkan preprocess dengan model `Logistic Regression, KNN, SVC`."
   ]
  },
  {
   "cell_type": "markdown",
   "metadata": {},
   "source": [
    "### Pipe Line"
   ]
  },
  {
   "cell_type": "code",
   "execution_count": 43,
   "metadata": {},
   "outputs": [],
   "source": [
    "# Column transformer\n",
    "preprocess = ColumnTransformer(transformers=[], remainder='passthrough') # untuk kolom yang tidak ditransformasi"
   ]
  },
  {
   "cell_type": "markdown",
   "metadata": {},
   "source": [
    "### Pipe Line Logistic Regression"
   ]
  },
  {
   "cell_type": "code",
   "execution_count": 44,
   "metadata": {},
   "outputs": [],
   "source": [
    "# Create pipeline for Logistic Regression\n",
    "pipe_log = make_pipeline(preprocess, LogisticRegression())"
   ]
  },
  {
   "cell_type": "markdown",
   "metadata": {},
   "source": [
    "### Pipe Line KNN"
   ]
  },
  {
   "cell_type": "code",
   "execution_count": 45,
   "metadata": {},
   "outputs": [],
   "source": [
    "# Create pipeline for KNN\n",
    "pipe_knn = make_pipeline(preprocess, KNeighborsClassifier())"
   ]
  },
  {
   "cell_type": "markdown",
   "metadata": {},
   "source": [
    "### Pipe Line SVM"
   ]
  },
  {
   "cell_type": "code",
   "execution_count": 46,
   "metadata": {},
   "outputs": [],
   "source": [
    "# Create pipeline for SVC\n",
    "pipe_svc = make_pipeline(preprocess, SVC())"
   ]
  },
  {
   "cell_type": "markdown",
   "metadata": {},
   "source": [
    "# viii. Model Training"
   ]
  },
  {
   "cell_type": "markdown",
   "metadata": {},
   "source": [
    "### Cross Validation"
   ]
  },
  {
   "cell_type": "markdown",
   "metadata": {},
   "source": [
    "Saya akan melakukan `cross validation` untuk mencari model terbaik antara Logistic regression, KNN, dan SVM dengan mengunakan parameter `n_splits=5` atau dengan kelipatan 5 dan menggunakan metrik `F1 score`."
   ]
  },
  {
   "cell_type": "code",
   "execution_count": 47,
   "metadata": {},
   "outputs": [],
   "source": [
    "# Inisialisasi StratifiedKFold dengan 5 lipatan\n",
    "skfold = StratifiedKFold(n_splits=5)"
   ]
  },
  {
   "cell_type": "markdown",
   "metadata": {},
   "source": [
    "### Cross Validation Logistic Regression"
   ]
  },
  {
   "cell_type": "code",
   "execution_count": 48,
   "metadata": {},
   "outputs": [],
   "source": [
    "# Melakukan cross validation logistic regression dengan StratifiedKFold dan menghitung skor F1\n",
    "cv_log = cross_val_score(pipe_log, X_train_final, y_train, cv=skfold, scoring='f1', n_jobs=-1)"
   ]
  },
  {
   "cell_type": "markdown",
   "metadata": {},
   "source": [
    "### Cross Validation KNN"
   ]
  },
  {
   "cell_type": "code",
   "execution_count": 49,
   "metadata": {},
   "outputs": [],
   "source": [
    "# Melakukan cross validation knn dengan StratifiedKFold dan menghitung skor F1\n",
    "cv_knn = cross_val_score(pipe_knn, X_train_final, y_train, cv=skfold, scoring='f1', n_jobs=-1)"
   ]
  },
  {
   "cell_type": "markdown",
   "metadata": {},
   "source": [
    "### Cross Validation SVM"
   ]
  },
  {
   "cell_type": "code",
   "execution_count": 50,
   "metadata": {},
   "outputs": [],
   "source": [
    "# Melakukan cross validation svm dengan StratifiedKFold dan menghitung skor F1\n",
    "cv_svc = cross_val_score(pipe_svc, X_train_final, y_train, cv=skfold, scoring='f1', n_jobs=-1)"
   ]
  },
  {
   "cell_type": "markdown",
   "metadata": {},
   "source": [
    "# ix. Model Evaluation"
   ]
  },
  {
   "cell_type": "markdown",
   "metadata": {},
   "source": [
    "Kemudian saya akan melakukan perbadingan model dengan tujuan untuk menemukan best model antara Logistic regression, KNN, dan SVM dengan menggunakan cross validation."
   ]
  },
  {
   "cell_type": "code",
   "execution_count": 51,
   "metadata": {},
   "outputs": [
    {
     "name": "stdout",
     "output_type": "stream",
     "text": [
      "Log\n",
      "f1 score - All - Cross Validation [0.46857143 0.43870968 0.36363636 0.32167832 0.38461538]\n",
      "f1 score - Mean - Cross Validation 0.3954422351841707\n",
      "f1 score - STD - Cross Validation 0.05251647280025337\n",
      "f1 score - Range - Cross Validation 0.34292576238391737 - 0.44795870798442405\n",
      "--------------------------------------------------\n",
      "SVC\n",
      "f1 score - All - Cross Validation [0.47513812 0.54166667 0.58757062 0.43636364 0.5       ]\n",
      "f1 score - Mean - Cross Validation 0.5081478092092382\n",
      "f1 score - STD - Cross Validation 0.052422305668651345\n",
      "f1 score - Range - Cross Validation 0.45572550354058683 - 0.5605701148778895\n",
      "--------------------------------------------------\n",
      "KNN\n",
      "f1 score - All - Cross Validation [0.44692737 0.48421053 0.52356021 0.38636364 0.42639594]\n",
      "f1 score - Mean - Cross Validation 0.453491537098296\n",
      "f1 score - STD - Cross Validation 0.047194681611244994\n",
      "f1 score - Range - Cross Validation 0.40629685548705097 - 0.500686218709541\n",
      "--------------------------------------------------\n",
      "Best Model:  SVC\n",
      "Best Model Score is  0.5081478092092382\n"
     ]
    }
   ],
   "source": [
    "# Finding best model on cross_val_score (mean)\n",
    "name_model = []\n",
    "cv_score = 0\n",
    "\n",
    "# Iterating through cross-validation scores and model names\n",
    "for cv,name in zip([cv_log,cv_svc,cv_knn],\n",
    "                   ['Log','SVC','KNN']):\n",
    "    print(name)\n",
    "    print('f1 score - All - Cross Validation', cv)\n",
    "    print('f1 score - Mean - Cross Validation', cv.mean())\n",
    "    print('f1 score - STD - Cross Validation', cv.std())\n",
    "    print('f1 score - Range - Cross Validation', (cv.mean() - cv.std()), '-', (cv.mean() + cv.std()))\n",
    "    print('-'*50)\n",
    "     # Comparing the mean cross-validation score with the current best score\n",
    "    if cv.mean() > cv_score:\n",
    "        cv_score = cv.mean()\n",
    "        name_model = name\n",
    "    else:\n",
    "        pass\n",
    "\n",
    "\n",
    "# Displaying the best model and its score\n",
    "print('Best Model: ', name_model)\n",
    "print('Best Model Score is ', cv_score)"
   ]
  },
  {
   "cell_type": "markdown",
   "metadata": {},
   "source": [
    "Dari hasil perbadingan antara Logistic regression, KNN, dan SVM  dengan menggunakan cross validation, best model yang ditemukan adalah `SVM` dengan score **mean 0.5081478092092382**."
   ]
  },
  {
   "cell_type": "code",
   "execution_count": 52,
   "metadata": {},
   "outputs": [
    {
     "data": {
      "text/html": [
       "<style>#sk-container-id-1 {\n",
       "  /* Definition of color scheme common for light and dark mode */\n",
       "  --sklearn-color-text: black;\n",
       "  --sklearn-color-line: gray;\n",
       "  /* Definition of color scheme for unfitted estimators */\n",
       "  --sklearn-color-unfitted-level-0: #fff5e6;\n",
       "  --sklearn-color-unfitted-level-1: #f6e4d2;\n",
       "  --sklearn-color-unfitted-level-2: #ffe0b3;\n",
       "  --sklearn-color-unfitted-level-3: chocolate;\n",
       "  /* Definition of color scheme for fitted estimators */\n",
       "  --sklearn-color-fitted-level-0: #f0f8ff;\n",
       "  --sklearn-color-fitted-level-1: #d4ebff;\n",
       "  --sklearn-color-fitted-level-2: #b3dbfd;\n",
       "  --sklearn-color-fitted-level-3: cornflowerblue;\n",
       "\n",
       "  /* Specific color for light theme */\n",
       "  --sklearn-color-text-on-default-background: var(--sg-text-color, var(--theme-code-foreground, var(--jp-content-font-color1, black)));\n",
       "  --sklearn-color-background: var(--sg-background-color, var(--theme-background, var(--jp-layout-color0, white)));\n",
       "  --sklearn-color-border-box: var(--sg-text-color, var(--theme-code-foreground, var(--jp-content-font-color1, black)));\n",
       "  --sklearn-color-icon: #696969;\n",
       "\n",
       "  @media (prefers-color-scheme: dark) {\n",
       "    /* Redefinition of color scheme for dark theme */\n",
       "    --sklearn-color-text-on-default-background: var(--sg-text-color, var(--theme-code-foreground, var(--jp-content-font-color1, white)));\n",
       "    --sklearn-color-background: var(--sg-background-color, var(--theme-background, var(--jp-layout-color0, #111)));\n",
       "    --sklearn-color-border-box: var(--sg-text-color, var(--theme-code-foreground, var(--jp-content-font-color1, white)));\n",
       "    --sklearn-color-icon: #878787;\n",
       "  }\n",
       "}\n",
       "\n",
       "#sk-container-id-1 {\n",
       "  color: var(--sklearn-color-text);\n",
       "}\n",
       "\n",
       "#sk-container-id-1 pre {\n",
       "  padding: 0;\n",
       "}\n",
       "\n",
       "#sk-container-id-1 input.sk-hidden--visually {\n",
       "  border: 0;\n",
       "  clip: rect(1px 1px 1px 1px);\n",
       "  clip: rect(1px, 1px, 1px, 1px);\n",
       "  height: 1px;\n",
       "  margin: -1px;\n",
       "  overflow: hidden;\n",
       "  padding: 0;\n",
       "  position: absolute;\n",
       "  width: 1px;\n",
       "}\n",
       "\n",
       "#sk-container-id-1 div.sk-dashed-wrapped {\n",
       "  border: 1px dashed var(--sklearn-color-line);\n",
       "  margin: 0 0.4em 0.5em 0.4em;\n",
       "  box-sizing: border-box;\n",
       "  padding-bottom: 0.4em;\n",
       "  background-color: var(--sklearn-color-background);\n",
       "}\n",
       "\n",
       "#sk-container-id-1 div.sk-container {\n",
       "  /* jupyter's `normalize.less` sets `[hidden] { display: none; }`\n",
       "     but bootstrap.min.css set `[hidden] { display: none !important; }`\n",
       "     so we also need the `!important` here to be able to override the\n",
       "     default hidden behavior on the sphinx rendered scikit-learn.org.\n",
       "     See: https://github.com/scikit-learn/scikit-learn/issues/21755 */\n",
       "  display: inline-block !important;\n",
       "  position: relative;\n",
       "}\n",
       "\n",
       "#sk-container-id-1 div.sk-text-repr-fallback {\n",
       "  display: none;\n",
       "}\n",
       "\n",
       "div.sk-parallel-item,\n",
       "div.sk-serial,\n",
       "div.sk-item {\n",
       "  /* draw centered vertical line to link estimators */\n",
       "  background-image: linear-gradient(var(--sklearn-color-text-on-default-background), var(--sklearn-color-text-on-default-background));\n",
       "  background-size: 2px 100%;\n",
       "  background-repeat: no-repeat;\n",
       "  background-position: center center;\n",
       "}\n",
       "\n",
       "/* Parallel-specific style estimator block */\n",
       "\n",
       "#sk-container-id-1 div.sk-parallel-item::after {\n",
       "  content: \"\";\n",
       "  width: 100%;\n",
       "  border-bottom: 2px solid var(--sklearn-color-text-on-default-background);\n",
       "  flex-grow: 1;\n",
       "}\n",
       "\n",
       "#sk-container-id-1 div.sk-parallel {\n",
       "  display: flex;\n",
       "  align-items: stretch;\n",
       "  justify-content: center;\n",
       "  background-color: var(--sklearn-color-background);\n",
       "  position: relative;\n",
       "}\n",
       "\n",
       "#sk-container-id-1 div.sk-parallel-item {\n",
       "  display: flex;\n",
       "  flex-direction: column;\n",
       "}\n",
       "\n",
       "#sk-container-id-1 div.sk-parallel-item:first-child::after {\n",
       "  align-self: flex-end;\n",
       "  width: 50%;\n",
       "}\n",
       "\n",
       "#sk-container-id-1 div.sk-parallel-item:last-child::after {\n",
       "  align-self: flex-start;\n",
       "  width: 50%;\n",
       "}\n",
       "\n",
       "#sk-container-id-1 div.sk-parallel-item:only-child::after {\n",
       "  width: 0;\n",
       "}\n",
       "\n",
       "/* Serial-specific style estimator block */\n",
       "\n",
       "#sk-container-id-1 div.sk-serial {\n",
       "  display: flex;\n",
       "  flex-direction: column;\n",
       "  align-items: center;\n",
       "  background-color: var(--sklearn-color-background);\n",
       "  padding-right: 1em;\n",
       "  padding-left: 1em;\n",
       "}\n",
       "\n",
       "\n",
       "/* Toggleable style: style used for estimator/Pipeline/ColumnTransformer box that is\n",
       "clickable and can be expanded/collapsed.\n",
       "- Pipeline and ColumnTransformer use this feature and define the default style\n",
       "- Estimators will overwrite some part of the style using the `sk-estimator` class\n",
       "*/\n",
       "\n",
       "/* Pipeline and ColumnTransformer style (default) */\n",
       "\n",
       "#sk-container-id-1 div.sk-toggleable {\n",
       "  /* Default theme specific background. It is overwritten whether we have a\n",
       "  specific estimator or a Pipeline/ColumnTransformer */\n",
       "  background-color: var(--sklearn-color-background);\n",
       "}\n",
       "\n",
       "/* Toggleable label */\n",
       "#sk-container-id-1 label.sk-toggleable__label {\n",
       "  cursor: pointer;\n",
       "  display: block;\n",
       "  width: 100%;\n",
       "  margin-bottom: 0;\n",
       "  padding: 0.5em;\n",
       "  box-sizing: border-box;\n",
       "  text-align: center;\n",
       "}\n",
       "\n",
       "#sk-container-id-1 label.sk-toggleable__label-arrow:before {\n",
       "  /* Arrow on the left of the label */\n",
       "  content: \"▸\";\n",
       "  float: left;\n",
       "  margin-right: 0.25em;\n",
       "  color: var(--sklearn-color-icon);\n",
       "}\n",
       "\n",
       "#sk-container-id-1 label.sk-toggleable__label-arrow:hover:before {\n",
       "  color: var(--sklearn-color-text);\n",
       "}\n",
       "\n",
       "/* Toggleable content - dropdown */\n",
       "\n",
       "#sk-container-id-1 div.sk-toggleable__content {\n",
       "  max-height: 0;\n",
       "  max-width: 0;\n",
       "  overflow: hidden;\n",
       "  text-align: left;\n",
       "  /* unfitted */\n",
       "  background-color: var(--sklearn-color-unfitted-level-0);\n",
       "}\n",
       "\n",
       "#sk-container-id-1 div.sk-toggleable__content.fitted {\n",
       "  /* fitted */\n",
       "  background-color: var(--sklearn-color-fitted-level-0);\n",
       "}\n",
       "\n",
       "#sk-container-id-1 div.sk-toggleable__content pre {\n",
       "  margin: 0.2em;\n",
       "  border-radius: 0.25em;\n",
       "  color: var(--sklearn-color-text);\n",
       "  /* unfitted */\n",
       "  background-color: var(--sklearn-color-unfitted-level-0);\n",
       "}\n",
       "\n",
       "#sk-container-id-1 div.sk-toggleable__content.fitted pre {\n",
       "  /* unfitted */\n",
       "  background-color: var(--sklearn-color-fitted-level-0);\n",
       "}\n",
       "\n",
       "#sk-container-id-1 input.sk-toggleable__control:checked~div.sk-toggleable__content {\n",
       "  /* Expand drop-down */\n",
       "  max-height: 200px;\n",
       "  max-width: 100%;\n",
       "  overflow: auto;\n",
       "}\n",
       "\n",
       "#sk-container-id-1 input.sk-toggleable__control:checked~label.sk-toggleable__label-arrow:before {\n",
       "  content: \"▾\";\n",
       "}\n",
       "\n",
       "/* Pipeline/ColumnTransformer-specific style */\n",
       "\n",
       "#sk-container-id-1 div.sk-label input.sk-toggleable__control:checked~label.sk-toggleable__label {\n",
       "  color: var(--sklearn-color-text);\n",
       "  background-color: var(--sklearn-color-unfitted-level-2);\n",
       "}\n",
       "\n",
       "#sk-container-id-1 div.sk-label.fitted input.sk-toggleable__control:checked~label.sk-toggleable__label {\n",
       "  background-color: var(--sklearn-color-fitted-level-2);\n",
       "}\n",
       "\n",
       "/* Estimator-specific style */\n",
       "\n",
       "/* Colorize estimator box */\n",
       "#sk-container-id-1 div.sk-estimator input.sk-toggleable__control:checked~label.sk-toggleable__label {\n",
       "  /* unfitted */\n",
       "  background-color: var(--sklearn-color-unfitted-level-2);\n",
       "}\n",
       "\n",
       "#sk-container-id-1 div.sk-estimator.fitted input.sk-toggleable__control:checked~label.sk-toggleable__label {\n",
       "  /* fitted */\n",
       "  background-color: var(--sklearn-color-fitted-level-2);\n",
       "}\n",
       "\n",
       "#sk-container-id-1 div.sk-label label.sk-toggleable__label,\n",
       "#sk-container-id-1 div.sk-label label {\n",
       "  /* The background is the default theme color */\n",
       "  color: var(--sklearn-color-text-on-default-background);\n",
       "}\n",
       "\n",
       "/* On hover, darken the color of the background */\n",
       "#sk-container-id-1 div.sk-label:hover label.sk-toggleable__label {\n",
       "  color: var(--sklearn-color-text);\n",
       "  background-color: var(--sklearn-color-unfitted-level-2);\n",
       "}\n",
       "\n",
       "/* Label box, darken color on hover, fitted */\n",
       "#sk-container-id-1 div.sk-label.fitted:hover label.sk-toggleable__label.fitted {\n",
       "  color: var(--sklearn-color-text);\n",
       "  background-color: var(--sklearn-color-fitted-level-2);\n",
       "}\n",
       "\n",
       "/* Estimator label */\n",
       "\n",
       "#sk-container-id-1 div.sk-label label {\n",
       "  font-family: monospace;\n",
       "  font-weight: bold;\n",
       "  display: inline-block;\n",
       "  line-height: 1.2em;\n",
       "}\n",
       "\n",
       "#sk-container-id-1 div.sk-label-container {\n",
       "  text-align: center;\n",
       "}\n",
       "\n",
       "/* Estimator-specific */\n",
       "#sk-container-id-1 div.sk-estimator {\n",
       "  font-family: monospace;\n",
       "  border: 1px dotted var(--sklearn-color-border-box);\n",
       "  border-radius: 0.25em;\n",
       "  box-sizing: border-box;\n",
       "  margin-bottom: 0.5em;\n",
       "  /* unfitted */\n",
       "  background-color: var(--sklearn-color-unfitted-level-0);\n",
       "}\n",
       "\n",
       "#sk-container-id-1 div.sk-estimator.fitted {\n",
       "  /* fitted */\n",
       "  background-color: var(--sklearn-color-fitted-level-0);\n",
       "}\n",
       "\n",
       "/* on hover */\n",
       "#sk-container-id-1 div.sk-estimator:hover {\n",
       "  /* unfitted */\n",
       "  background-color: var(--sklearn-color-unfitted-level-2);\n",
       "}\n",
       "\n",
       "#sk-container-id-1 div.sk-estimator.fitted:hover {\n",
       "  /* fitted */\n",
       "  background-color: var(--sklearn-color-fitted-level-2);\n",
       "}\n",
       "\n",
       "/* Specification for estimator info (e.g. \"i\" and \"?\") */\n",
       "\n",
       "/* Common style for \"i\" and \"?\" */\n",
       "\n",
       ".sk-estimator-doc-link,\n",
       "a:link.sk-estimator-doc-link,\n",
       "a:visited.sk-estimator-doc-link {\n",
       "  float: right;\n",
       "  font-size: smaller;\n",
       "  line-height: 1em;\n",
       "  font-family: monospace;\n",
       "  background-color: var(--sklearn-color-background);\n",
       "  border-radius: 1em;\n",
       "  height: 1em;\n",
       "  width: 1em;\n",
       "  text-decoration: none !important;\n",
       "  margin-left: 1ex;\n",
       "  /* unfitted */\n",
       "  border: var(--sklearn-color-unfitted-level-1) 1pt solid;\n",
       "  color: var(--sklearn-color-unfitted-level-1);\n",
       "}\n",
       "\n",
       ".sk-estimator-doc-link.fitted,\n",
       "a:link.sk-estimator-doc-link.fitted,\n",
       "a:visited.sk-estimator-doc-link.fitted {\n",
       "  /* fitted */\n",
       "  border: var(--sklearn-color-fitted-level-1) 1pt solid;\n",
       "  color: var(--sklearn-color-fitted-level-1);\n",
       "}\n",
       "\n",
       "/* On hover */\n",
       "div.sk-estimator:hover .sk-estimator-doc-link:hover,\n",
       ".sk-estimator-doc-link:hover,\n",
       "div.sk-label-container:hover .sk-estimator-doc-link:hover,\n",
       ".sk-estimator-doc-link:hover {\n",
       "  /* unfitted */\n",
       "  background-color: var(--sklearn-color-unfitted-level-3);\n",
       "  color: var(--sklearn-color-background);\n",
       "  text-decoration: none;\n",
       "}\n",
       "\n",
       "div.sk-estimator.fitted:hover .sk-estimator-doc-link.fitted:hover,\n",
       ".sk-estimator-doc-link.fitted:hover,\n",
       "div.sk-label-container:hover .sk-estimator-doc-link.fitted:hover,\n",
       ".sk-estimator-doc-link.fitted:hover {\n",
       "  /* fitted */\n",
       "  background-color: var(--sklearn-color-fitted-level-3);\n",
       "  color: var(--sklearn-color-background);\n",
       "  text-decoration: none;\n",
       "}\n",
       "\n",
       "/* Span, style for the box shown on hovering the info icon */\n",
       ".sk-estimator-doc-link span {\n",
       "  display: none;\n",
       "  z-index: 9999;\n",
       "  position: relative;\n",
       "  font-weight: normal;\n",
       "  right: .2ex;\n",
       "  padding: .5ex;\n",
       "  margin: .5ex;\n",
       "  width: min-content;\n",
       "  min-width: 20ex;\n",
       "  max-width: 50ex;\n",
       "  color: var(--sklearn-color-text);\n",
       "  box-shadow: 2pt 2pt 4pt #999;\n",
       "  /* unfitted */\n",
       "  background: var(--sklearn-color-unfitted-level-0);\n",
       "  border: .5pt solid var(--sklearn-color-unfitted-level-3);\n",
       "}\n",
       "\n",
       ".sk-estimator-doc-link.fitted span {\n",
       "  /* fitted */\n",
       "  background: var(--sklearn-color-fitted-level-0);\n",
       "  border: var(--sklearn-color-fitted-level-3);\n",
       "}\n",
       "\n",
       ".sk-estimator-doc-link:hover span {\n",
       "  display: block;\n",
       "}\n",
       "\n",
       "/* \"?\"-specific style due to the `<a>` HTML tag */\n",
       "\n",
       "#sk-container-id-1 a.estimator_doc_link {\n",
       "  float: right;\n",
       "  font-size: 1rem;\n",
       "  line-height: 1em;\n",
       "  font-family: monospace;\n",
       "  background-color: var(--sklearn-color-background);\n",
       "  border-radius: 1rem;\n",
       "  height: 1rem;\n",
       "  width: 1rem;\n",
       "  text-decoration: none;\n",
       "  /* unfitted */\n",
       "  color: var(--sklearn-color-unfitted-level-1);\n",
       "  border: var(--sklearn-color-unfitted-level-1) 1pt solid;\n",
       "}\n",
       "\n",
       "#sk-container-id-1 a.estimator_doc_link.fitted {\n",
       "  /* fitted */\n",
       "  border: var(--sklearn-color-fitted-level-1) 1pt solid;\n",
       "  color: var(--sklearn-color-fitted-level-1);\n",
       "}\n",
       "\n",
       "/* On hover */\n",
       "#sk-container-id-1 a.estimator_doc_link:hover {\n",
       "  /* unfitted */\n",
       "  background-color: var(--sklearn-color-unfitted-level-3);\n",
       "  color: var(--sklearn-color-background);\n",
       "  text-decoration: none;\n",
       "}\n",
       "\n",
       "#sk-container-id-1 a.estimator_doc_link.fitted:hover {\n",
       "  /* fitted */\n",
       "  background-color: var(--sklearn-color-fitted-level-3);\n",
       "}\n",
       "</style><div id=\"sk-container-id-1\" class=\"sk-top-container\"><div class=\"sk-text-repr-fallback\"><pre>Pipeline(steps=[(&#x27;columntransformer&#x27;,\n",
       "                 ColumnTransformer(remainder=&#x27;passthrough&#x27;, transformers=[])),\n",
       "                (&#x27;svc&#x27;, SVC())])</pre><b>In a Jupyter environment, please rerun this cell to show the HTML representation or trust the notebook. <br />On GitHub, the HTML representation is unable to render, please try loading this page with nbviewer.org.</b></div><div class=\"sk-container\" hidden><div class=\"sk-item sk-dashed-wrapped\"><div class=\"sk-label-container\"><div class=\"sk-label fitted sk-toggleable\"><input class=\"sk-toggleable__control sk-hidden--visually\" id=\"sk-estimator-id-1\" type=\"checkbox\" ><label for=\"sk-estimator-id-1\" class=\"sk-toggleable__label fitted sk-toggleable__label-arrow fitted\">&nbsp;&nbsp;Pipeline<a class=\"sk-estimator-doc-link fitted\" rel=\"noreferrer\" target=\"_blank\" href=\"https://scikit-learn.org/1.4/modules/generated/sklearn.pipeline.Pipeline.html\">?<span>Documentation for Pipeline</span></a><span class=\"sk-estimator-doc-link fitted\">i<span>Fitted</span></span></label><div class=\"sk-toggleable__content fitted\"><pre>Pipeline(steps=[(&#x27;columntransformer&#x27;,\n",
       "                 ColumnTransformer(remainder=&#x27;passthrough&#x27;, transformers=[])),\n",
       "                (&#x27;svc&#x27;, SVC())])</pre></div> </div></div><div class=\"sk-serial\"><div class=\"sk-item sk-dashed-wrapped\"><div class=\"sk-label-container\"><div class=\"sk-label fitted sk-toggleable\"><input class=\"sk-toggleable__control sk-hidden--visually\" id=\"sk-estimator-id-2\" type=\"checkbox\" ><label for=\"sk-estimator-id-2\" class=\"sk-toggleable__label fitted sk-toggleable__label-arrow fitted\">&nbsp;columntransformer: ColumnTransformer<a class=\"sk-estimator-doc-link fitted\" rel=\"noreferrer\" target=\"_blank\" href=\"https://scikit-learn.org/1.4/modules/generated/sklearn.compose.ColumnTransformer.html\">?<span>Documentation for columntransformer: ColumnTransformer</span></a></label><div class=\"sk-toggleable__content fitted\"><pre>ColumnTransformer(remainder=&#x27;passthrough&#x27;, transformers=[])</pre></div> </div></div><div class=\"sk-parallel\"><div class=\"sk-parallel-item\"><div class=\"sk-item\"><div class=\"sk-label-container\"><div class=\"sk-label fitted sk-toggleable\"><input class=\"sk-toggleable__control sk-hidden--visually\" id=\"sk-estimator-id-3\" type=\"checkbox\" ><label for=\"sk-estimator-id-3\" class=\"sk-toggleable__label fitted sk-toggleable__label-arrow fitted\">remainder</label><div class=\"sk-toggleable__content fitted\"><pre>[&#x27;pay_0&#x27;, &#x27;pay_2&#x27;, &#x27;pay_3&#x27;, &#x27;pay_4&#x27;, &#x27;pay_5&#x27;, &#x27;pay_6&#x27;]</pre></div> </div></div><div class=\"sk-serial\"><div class=\"sk-item\"><div class=\"sk-estimator fitted sk-toggleable\"><input class=\"sk-toggleable__control sk-hidden--visually\" id=\"sk-estimator-id-4\" type=\"checkbox\" ><label for=\"sk-estimator-id-4\" class=\"sk-toggleable__label fitted sk-toggleable__label-arrow fitted\">passthrough</label><div class=\"sk-toggleable__content fitted\"><pre>passthrough</pre></div> </div></div></div></div></div></div></div><div class=\"sk-item\"><div class=\"sk-estimator fitted sk-toggleable\"><input class=\"sk-toggleable__control sk-hidden--visually\" id=\"sk-estimator-id-5\" type=\"checkbox\" ><label for=\"sk-estimator-id-5\" class=\"sk-toggleable__label fitted sk-toggleable__label-arrow fitted\">&nbsp;SVC<a class=\"sk-estimator-doc-link fitted\" rel=\"noreferrer\" target=\"_blank\" href=\"https://scikit-learn.org/1.4/modules/generated/sklearn.svm.SVC.html\">?<span>Documentation for SVC</span></a></label><div class=\"sk-toggleable__content fitted\"><pre>SVC()</pre></div> </div></div></div></div></div></div>"
      ],
      "text/plain": [
       "Pipeline(steps=[('columntransformer',\n",
       "                 ColumnTransformer(remainder='passthrough', transformers=[])),\n",
       "                ('svc', SVC())])"
      ]
     },
     "execution_count": 52,
     "metadata": {},
     "output_type": "execute_result"
    }
   ],
   "source": [
    "# Fit pipeline pada data pelatihan\n",
    "pipe_svc.fit(X_train_final, y_train)"
   ]
  },
  {
   "cell_type": "markdown",
   "metadata": {},
   "source": [
    "### Before Hyperparameter Tuning"
   ]
  },
  {
   "cell_type": "markdown",
   "metadata": {},
   "source": [
    "Kemudian saya akan mengecek nilai F1 score dari `best model (SVM)` untuk melakukan perbandingan dengan hasil setelah dilakukan proses `Hyperparameter tuning`."
   ]
  },
  {
   "cell_type": "code",
   "execution_count": 53,
   "metadata": {},
   "outputs": [
    {
     "name": "stdout",
     "output_type": "stream",
     "text": [
      "F1 Score - Train Set   :  0.5340782122905028 \n",
      "\n",
      "F1 Score - Test Set   :  0.54 \n",
      "\n",
      "Confusion Matrix      : \n",
      " <sklearn.metrics._plot.confusion_matrix.ConfusionMatrixDisplay object at 0x000002BCB97C5150>\n",
      "Confusion Matrix      : \n",
      " <sklearn.metrics._plot.confusion_matrix.ConfusionMatrixDisplay object at 0x000002BCBA2E5990>\n"
     ]
    },
    {
     "data": {
      "image/png": "[encoded data removed]",
      "text/plain": [
       "<Figure size 640x480 with 2 Axes>"
      ]
     },
     "metadata": {},
     "output_type": "display_data"
    },
    {
     "data": {
      "image/png": "[encoded data removed]",
      "text/plain": [
       "<Figure size 640x480 with 2 Axes>"
      ]
     },
     "metadata": {},
     "output_type": "display_data"
    }
   ],
   "source": [
    "# Lakukan prediksi pada data pelatihan dan data uji\n",
    "y_pred_train_svc = pipe_svc.predict(X_train_final)\n",
    "\n",
    "# Lakukan prediksi pada data pelatihan dan data uji\n",
    "y_pred_test_svc = pipe_svc.predict(X_test_final)\n",
    "\n",
    "# Tampilkan classification report untuk data pelatihan\n",
    "print('F1 Score - Train Set   : ', f1_score(y_train, y_pred_train_svc), '\\n')\n",
    "\n",
    "# Tampilkan classification report untuk data uji\n",
    "print('F1 Score - Test Set   : ', f1_score(y_test, y_pred_test_svc), '\\n')\n",
    "\n",
    "# Check Performance Model against Train-Set\n",
    "print('Confusion Matrix      : \\n', ConfusionMatrixDisplay.from_estimator(pipe_svc, X_train_final, y_train, cmap='Reds'))\n",
    "\n",
    "# Check Performance Model against Test-Set\n",
    "print('Confusion Matrix      : \\n', ConfusionMatrixDisplay.from_estimator(pipe_svc, X_test_final, y_test, cmap='Reds'))"
   ]
  },
  {
   "cell_type": "code",
   "execution_count": 54,
   "metadata": {},
   "outputs": [
    {
     "data": {
      "text/html": [
       "<div>\n",
       "<style scoped>\n",
       "    .dataframe tbody tr th:only-of-type {\n",
       "        vertical-align: middle;\n",
       "    }\n",
       "\n",
       "    .dataframe tbody tr th {\n",
       "        vertical-align: top;\n",
       "    }\n",
       "\n",
       "    .dataframe thead th {\n",
       "        text-align: right;\n",
       "    }\n",
       "</style>\n",
       "<table border=\"1\" class=\"dataframe\">\n",
       "  <thead>\n",
       "    <tr style=\"text-align: right;\">\n",
       "      <th></th>\n",
       "      <th>Baseline (Default Hyperparameter)</th>\n",
       "    </tr>\n",
       "  </thead>\n",
       "  <tbody>\n",
       "    <tr>\n",
       "      <th>train - f1_score</th>\n",
       "      <td>0.534078</td>\n",
       "    </tr>\n",
       "    <tr>\n",
       "      <th>test - f1_score</th>\n",
       "      <td>0.540000</td>\n",
       "    </tr>\n",
       "  </tbody>\n",
       "</table>\n",
       "</div>"
      ],
      "text/plain": [
       "                  Baseline (Default Hyperparameter)\n",
       "train - f1_score                           0.534078\n",
       "test - f1_score                            0.540000"
      ]
     },
     "execution_count": 54,
     "metadata": {},
     "output_type": "execute_result"
    }
   ],
   "source": [
    "# Save Classification Report into a Dictionary\n",
    "all_reports = {}\n",
    "def performance_report(all_reports, y_train, y_pred_train_svc, y_test, y_pred_test_svc, name):\n",
    "  score_reports = {\n",
    "      'train - f1_score' : f1_score(y_train, y_pred_train_svc),\n",
    "      'test - f1_score' : f1_score(y_test, y_pred_test_svc),\n",
    "  }\n",
    "  all_reports[name] = score_reports\n",
    "  return all_reports\n",
    "\n",
    "all_reports = performance_report(all_reports, y_train, y_pred_train_svc, y_test, y_pred_test_svc, 'Baseline (Default Hyperparameter)')\n",
    "pd.DataFrame(all_reports)"
   ]
  },
  {
   "cell_type": "markdown",
   "metadata": {},
   "source": [
    "Dari proses diatas dapat dilihat nilai F1 score sebelum dilakukan Hyperparameter tuning:\n",
    "- **F1 Score - Train Set**   :  0.5340782122905028 \n",
    "- **F1 Score - Test Set**   :  0.54"
   ]
  },
  {
   "cell_type": "markdown",
   "metadata": {},
   "source": [
    "### Hyperparameter Tuning"
   ]
  },
  {
   "cell_type": "markdown",
   "metadata": {},
   "source": [
    "Lalu saya akan melakukan hyperparameter tuning dengan menggunakan `GridSearch` yang bertujuan untuk meningkatkan score dari best model (SVM). "
   ]
  },
  {
   "cell_type": "code",
   "execution_count": 61,
   "metadata": {},
   "outputs": [
    {
     "name": "stdout",
     "output_type": "stream",
     "text": [
      "Fitting 5 folds for each of 60 candidates, totalling 300 fits\n",
      "Best Parameter:\n",
      "{'svc__C': 2, 'svc__gamma': 'auto', 'svc__kernel': 'rbf'} \n",
      "\n",
      "F1 Score - Train Set (Best SVC)  :  0.5527192008879024 \n",
      "\n",
      "F1 Score - Test Set (Best SVC)   :  0.5454545454545454 \n",
      "\n",
      "Confusion Matrix      : \n",
      " <sklearn.metrics._plot.confusion_matrix.ConfusionMatrixDisplay object at 0x000002BCBA33D490>\n",
      "Confusion Matrix      : \n",
      " <sklearn.metrics._plot.confusion_matrix.ConfusionMatrixDisplay object at 0x000002BCBA33D490>\n"
     ]
    },
    {
     "data": {
      "image/png": "[encoded data removed]",
      "text/plain": [
       "<Figure size 640x480 with 2 Axes>"
      ]
     },
     "metadata": {},
     "output_type": "display_data"
    },
    {
     "data": {
      "image/png": "[encoded data removed]",
      "text/plain": [
       "<Figure size 640x480 with 2 Axes>"
      ]
     },
     "metadata": {},
     "output_type": "display_data"
    }
   ],
   "source": [
    "    # Daftar hyperparameter yang akan dioptimalkan\n",
    "    param_grid = {\n",
    "                'svc__C': [1,2,3,4,5,6,7,8,9,10],\n",
    "                'svc__kernel': ['linear','rbf', 'sigmoid'],\n",
    "                'svc__gamma': ['scaled','auto']\n",
    "    }\n",
    "\n",
    "    # Inisialisasi GridSearchCV untuk pencarian parameter terbaik\n",
    "    grid_search = GridSearchCV(pipe_svc, param_grid=param_grid, cv=5, scoring='f1', verbose=1, n_jobs=-1)\n",
    "\n",
    "    # Lakukan grid search untuk mencari kombinasi parameter terbaik\n",
    "    grid_search.fit(X_train_final, y_train)\n",
    "\n",
    "    # Dapatkan parameter terbaik setelah grid search selesai\n",
    "    best_params = grid_search.best_params_\n",
    "    print(\"Best Parameter:\")\n",
    "    print(best_params, '\\n')\n",
    "\n",
    "    # Prediksi menggunakan model dengan parameter terbaik\n",
    "    best_svc = grid_search.best_estimator_\n",
    "\n",
    "    # Prediksi menggunakan model terbaik pada data pelatihan\n",
    "    y_pred_train_best = best_svc.predict(X_train_final)\n",
    "\n",
    "    # Prediksi menggunakan model terbaik pada data pengujian\n",
    "    y_pred_test_best = best_svc.predict(X_test_final)\n",
    "\n",
    "    # Evaluasi performa menggunakan model terbaik pada data pelatihan\n",
    "    print('F1 Score - Train Set (Best SVC)  : ', f1_score(y_train, y_pred_train_best), '\\n')\n",
    "\n",
    "    # Evaluasi performa menggunakan model terbaik pada data pengujian\n",
    "    print('F1 Score - Test Set (Best SVC)   : ', f1_score(y_test, y_pred_test_best), '\\n')\n",
    "\n",
    "    # Check Performance Model against Train-Set\n",
    "    print('Confusion Matrix      : \\n', ConfusionMatrixDisplay.from_estimator(best_svc, X_train_final, y_train, cmap='Reds'))\n",
    "\n",
    "    # Check Performance Model against Test-Set\n",
    "    print('Confusion Matrix      : \\n', ConfusionMatrixDisplay.from_estimator(best_svc, X_test_final, y_test, cmap='Reds'))"
   ]
  },
  {
   "cell_type": "markdown",
   "metadata": {},
   "source": [
    "Lalu saya akan melakukan hyperparameter tuning dengan menggunakan `Manual Search` yang bertujuan untuk meningkatkan score dari best model (SVM). "
   ]
  },
  {
   "cell_type": "code",
   "execution_count": 63,
   "metadata": {},
   "outputs": [
    {
     "name": "stdout",
     "output_type": "stream",
     "text": [
      "Best Parameter:\n",
      "{'C': 1, 'kernel': 'linear', 'gamma': 'scale'} \n",
      "\n",
      "Best F1 Score: 0.5849056603773585\n",
      "F1 Score - Train Set (Best SVC):  0.5279187817258884\n",
      "F1 Score - Test Set (Best SVC):  0.5849056603773585\n",
      "Confusion Matrix      : \n",
      " <sklearn.metrics._plot.confusion_matrix.ConfusionMatrixDisplay object at 0x000002BCBA3C3910>\n",
      "Confusion Matrix      : \n",
      " <sklearn.metrics._plot.confusion_matrix.ConfusionMatrixDisplay object at 0x000002BCBC82C710>\n"
     ]
    },
    {
     "data": {
      "image/png": "[encoded data removed]",
      "text/plain": [
       "<Figure size 640x480 with 2 Axes>"
      ]
     },
     "metadata": {},
     "output_type": "display_data"
    },
    {
     "data": {
      "image/png": "[encoded data removed]",
      "text/plain": [
       "<Figure size 640x480 with 2 Axes>"
      ]
     },
     "metadata": {},
     "output_type": "display_data"
    }
   ],
   "source": [
    "from sklearn.svm import SVC\n",
    "from sklearn.metrics import f1_score, confusion_matrix, ConfusionMatrixDisplay\n",
    "import itertools\n",
    "\n",
    "# Daftar kombinasi parameter yang akan dievaluasi secara manual\n",
    "C_values = [1, 2, 3, 4, 5, 6, 7, 8, 9, 10]\n",
    "kernel_values = ['linear', 'rbf', 'sigmoid']\n",
    "gamma_values = ['scale', 'auto']\n",
    "\n",
    "best_f1_score = 0\n",
    "best_params = {}\n",
    "\n",
    "# Lakukan iterasi melalui semua kombinasi parameter yang ditentukan secara manual\n",
    "for C, kernel, gamma in itertools.product(C_values, kernel_values, gamma_values):\n",
    "    # Inisialisasi model SVC dengan parameter tertentu\n",
    "    svc_model = SVC(C=C, kernel=kernel, gamma=gamma)\n",
    "    \n",
    "    # Latih model menggunakan data pelatihan\n",
    "    svc_model.fit(X_train_final, y_train)\n",
    "    \n",
    "    # Lakukan prediksi pada data uji\n",
    "    y_pred_test = svc_model.predict(X_test_final)\n",
    "    \n",
    "    # Hitung F1 score untuk model ini\n",
    "    current_f1_score = f1_score(y_test, y_pred_test)\n",
    "    \n",
    "    # Bandingkan dengan F1 score terbaik yang telah dicapai sejauh ini\n",
    "    if current_f1_score > best_f1_score:\n",
    "        best_f1_score = current_f1_score\n",
    "        best_params = {'C': C, 'kernel': kernel, 'gamma': gamma}\n",
    "\n",
    "# Setelah iterasi selesai, print parameter terbaik dan F1 score terbaik\n",
    "print(\"Best Parameter:\")\n",
    "print(best_params, '\\n')\n",
    "print('Best F1 Score:', best_f1_score)\n",
    "\n",
    "# Gunakan parameter terbaik untuk melatih model final\n",
    "best_svc_model = SVC(**best_params, random_state=42)\n",
    "best_svc_model.fit(X_train_final, y_train)\n",
    "\n",
    "# Prediksi menggunakan model terbaik pada data pelatihan dan data uji\n",
    "y_pred_train_best = best_svc_model.predict(X_train_final)\n",
    "y_pred_test_best = best_svc_model.predict(X_test_final)\n",
    "\n",
    "# Evaluasi performa menggunakan model terbaik pada data pelatihan dan data uji\n",
    "print('F1 Score - Train Set (Best SVC): ', f1_score(y_train, y_pred_train_best))\n",
    "print('F1 Score - Test Set (Best SVC): ', f1_score(y_test, y_pred_test_best))\n",
    "\n",
    "# Check Performance Model against Train-Set\n",
    "print('Confusion Matrix      : \\n', ConfusionMatrixDisplay.from_estimator(best_svc, X_train_final, y_train, cmap='Reds'))\n",
    "\n",
    "# Check Performance Model against Test-Set\n",
    "print('Confusion Matrix      : \\n', ConfusionMatrixDisplay.from_estimator(best_svc, X_test_final, y_test, cmap='Reds'))"
   ]
  },
  {
   "cell_type": "markdown",
   "metadata": {},
   "source": [
    "Lalu saya akan melakukan hyperparameter tuning dengan menggunakan `Random Search` yang bertujuan untuk meningkatkan score dari best model (SVM). "
   ]
  },
  {
   "cell_type": "code",
   "execution_count": 64,
   "metadata": {},
   "outputs": [
    {
     "name": "stdout",
     "output_type": "stream",
     "text": [
      "Fitting 5 folds for each of 10 candidates, totalling 50 fits\n"
     ]
    },
    {
     "name": "stdout",
     "output_type": "stream",
     "text": [
      "Best Parameter:\n",
      "{'kernel': 'rbf', 'gamma': 'scale', 'C': 3.0} \n",
      "\n",
      "F1 Score - Train Set (Best SVC):  0.5530973451327433\n",
      "F1 Score - Test Set (Best SVC):  0.5454545454545454\n",
      "Confusion Matrix      : \n",
      " <sklearn.metrics._plot.confusion_matrix.ConfusionMatrixDisplay object at 0x000002BCB97BA050>\n",
      "Confusion Matrix      : \n",
      " <sklearn.metrics._plot.confusion_matrix.ConfusionMatrixDisplay object at 0x000002BCB97204D0>\n"
     ]
    },
    {
     "data": {
      "image/png": "[encoded data removed]",
      "text/plain": [
       "<Figure size 640x480 with 2 Axes>"
      ]
     },
     "metadata": {},
     "output_type": "display_data"
    },
    {
     "data": {
      "image/png": "[encoded data removed]",
      "text/plain": [
       "<Figure size 640x480 with 2 Axes>"
      ]
     },
     "metadata": {},
     "output_type": "display_data"
    }
   ],
   "source": [
    "from sklearn.svm import SVC\n",
    "from sklearn.metrics import f1_score, confusion_matrix, ConfusionMatrixDisplay\n",
    "from sklearn.model_selection import RandomizedSearchCV\n",
    "import numpy as np\n",
    "\n",
    "# Daftar hyperparameter yang akan dioptimalkan\n",
    "param_grid = {\n",
    "    'C': np.linspace(1, 10, num=10),  # Range untuk C dari 1 hingga 10\n",
    "    'kernel': ['linear', 'rbf', 'sigmoid'],  # Pilihan kernel\n",
    "    'gamma': ['scale', 'auto']  # Pilihan gamma\n",
    "}\n",
    "\n",
    "# Inisialisasi RandomizedSearchCV untuk pencarian parameter terbaik\n",
    "random_search = RandomizedSearchCV(\n",
    "    estimator=SVC(),\n",
    "    param_distributions=param_grid,\n",
    "    scoring='f1',\n",
    "    cv=5,\n",
    "    n_iter=10,  # Jumlah iterasi pencarian acak\n",
    "    verbose=1,\n",
    "    n_jobs=-1,\n",
    "    random_state=42\n",
    ")\n",
    "\n",
    "# Lakukan Randomized Search untuk mencari kombinasi parameter terbaik\n",
    "random_search.fit(X_train_final, y_train)\n",
    "\n",
    "# Dapatkan parameter terbaik setelah Randomized Search selesai\n",
    "best_params = random_search.best_params_\n",
    "print(\"Best Parameter:\")\n",
    "print(best_params, '\\n')\n",
    "\n",
    "# Prediksi menggunakan model dengan parameter terbaik\n",
    "best_svc_model = random_search.best_estimator_\n",
    "\n",
    "# Prediksi menggunakan model terbaik pada data pelatihan dan data uji\n",
    "y_pred_train_best = best_svc_model.predict(X_train_final)\n",
    "y_pred_test_best = best_svc_model.predict(X_test_final)\n",
    "\n",
    "# Evaluasi performa menggunakan model terbaik pada data pelatihan dan data uji\n",
    "print('F1 Score - Train Set (Best SVC): ', f1_score(y_train, y_pred_train_best))\n",
    "print('F1 Score - Test Set (Best SVC): ', f1_score(y_test, y_pred_test_best))\n",
    "\n",
    "# Check Performance Model against Train-Set\n",
    "print('Confusion Matrix      : \\n', ConfusionMatrixDisplay.from_estimator(best_svc, X_train_final, y_train, cmap='Reds'))\n",
    "\n",
    "# Check Performance Model against Test-Set\n",
    "print('Confusion Matrix      : \\n', ConfusionMatrixDisplay.from_estimator(best_svc, X_test_final, y_test, cmap='Reds'))"
   ]
  },
  {
   "cell_type": "code",
   "execution_count": null,
   "metadata": {},
   "outputs": [
    {
     "data": {
      "text/html": [
       "<div>\n",
       "<style scoped>\n",
       "    .dataframe tbody tr th:only-of-type {\n",
       "        vertical-align: middle;\n",
       "    }\n",
       "\n",
       "    .dataframe tbody tr th {\n",
       "        vertical-align: top;\n",
       "    }\n",
       "\n",
       "    .dataframe thead th {\n",
       "        text-align: right;\n",
       "    }\n",
       "</style>\n",
       "<table border=\"1\" class=\"dataframe\">\n",
       "  <thead>\n",
       "    <tr style=\"text-align: right;\">\n",
       "      <th></th>\n",
       "      <th>Baseline (Default Hyperparameter)</th>\n",
       "      <th>GridSearchCV</th>\n",
       "    </tr>\n",
       "  </thead>\n",
       "  <tbody>\n",
       "    <tr>\n",
       "      <th>train - f1_score</th>\n",
       "      <td>0.534078</td>\n",
       "      <td>0.552719</td>\n",
       "    </tr>\n",
       "    <tr>\n",
       "      <th>test - f1_score</th>\n",
       "      <td>0.540000</td>\n",
       "      <td>0.545455</td>\n",
       "    </tr>\n",
       "  </tbody>\n",
       "</table>\n",
       "</div>"
      ],
      "text/plain": [
       "                  Baseline (Default Hyperparameter)  GridSearchCV\n",
       "train - f1_score                           0.534078      0.552719\n",
       "test - f1_score                            0.540000      0.545455"
      ]
     },
     "execution_count": 57,
     "metadata": {},
     "output_type": "execute_result"
    }
   ],
   "source": [
    "# Save Classification Report into a Dictionary\n",
    "all_reports = performance_report(all_reports, y_train, y_pred_train_best, y_test, y_pred_test_best, 'GridSearchCV')\n",
    "pd.DataFrame(all_reports)"
   ]
  },
  {
   "cell_type": "markdown",
   "metadata": {},
   "source": [
    "Setelah melakukan proses Hyperparameter tuning nilai F1 score menjadi:\n",
    "- **F1 Score - Train Set (Best Logistic Regression)**  :  0.5527192008879024\n",
    "- **F1 Score - Test Set (Best Logistic Regression)**   :  0.5454545454545454 \n",
    "\n",
    "Dan best parameternya yaitu:\n",
    "- **'svc__C': 2**\n",
    "- **'svc__gamma': 'auto'**\n",
    "- **'svc__kernel': 'rbf'**\n",
    "\n",
    "Dari proses sebelum dan sesudah Hyperparameter tuning dapat disimpulkan bahwa mengalami kenaikan score pada F1 score sebesar:\n",
    "- **Train set** : 0.0186409885973996\n",
    "- **Test set** : 0.005454545454545379\n",
    "\n",
    "Dari Hasil confusion matrix:\n",
    "- **Train set** : False Negatif mengalami penurunan\n",
    "- **Test set**  :False Negatif mengalami penurunan\n",
    "\n",
    "yang artinya proses Hyperparameter tuning **berhasil**."
   ]
  },
  {
   "cell_type": "markdown",
   "metadata": {},
   "source": [
    "# x. Model Saving"
   ]
  },
  {
   "cell_type": "markdown",
   "metadata": {},
   "source": [
    "Lalu data best model yang telah dilakukan Hyperparameter tuning disimpan untuk dilakukan proses inference."
   ]
  },
  {
   "cell_type": "code",
   "execution_count": null,
   "metadata": {},
   "outputs": [],
   "source": [
    "# Save the files\n",
    "with open ('best_svc.pkl', 'wb') as file_1: # wb = write binary\n",
    "    pickle.dump(best_svc, file_1)"
   ]
  },
  {
   "cell_type": "markdown",
   "metadata": {},
   "source": [
    "# xi. Model Inference"
   ]
  },
  {
   "cell_type": "markdown",
   "metadata": {},
   "source": [
    "Penjelasan ada di notebook `P1G5_Set_1_Inference_Alfarabi.ipynb`"
   ]
  },
  {
   "cell_type": "markdown",
   "metadata": {},
   "source": [
    "# xii. Conclusion"
   ]
  },
  {
   "cell_type": "markdown",
   "metadata": {},
   "source": [
    "1. `Pejelasan Metric`: Matriks F1 Score digunakan karena memberikan pengukuran yang seimbang antara presisi (precision) dan recall. Hal ini berguna ketika kita memiliki dataset yang tidak seimbang (imbalanced dataset), di mana kelas positif dan negatif memiliki distribusi yang berbeda. F1 Score menggabungkan presisi dan recall menjadi satu metrik, sehingga cocok digunakan untuk evaluasi performa model pada kasus seperti default kartu kredit di mana kelas yang positif (default) mungkin lebih sedikit daripada yang negatif (non-default). Pada kasus ini, F1 Score akan memberikan nilai yang lebih baik daripada akurasi (accuracy) atau recall. Sebelum melakukan nilai F1 score pada Train set sebesar 0.534078 setelah melakukan tuning baik menjadi 0.552719, dan pada Test set nilai F1 score sebesar 0.534078 setelah melakukan tuning baik menjadi 0.552719.\n",
    "\n",
    "2. `Evaluasi Model`:\n",
    "   1. **Kelebihan Model SVM**:\n",
    "   - Mampu Menangani Pola Nonlinear: SVM dapat mengatasi pola data yang kompleks dan tidak linear, yang sering terjadi dalam data kredit kartu.\n",
    "   - Efisien untuk Data dengan Banyak Fitur: SVM efektif digunakan pada dataset dengan banyak fitur (variabel), seperti data kredit kartu, karena menggunakan subset data penting untuk membuat keputusan.\n",
    "   - Dapat Mengendalikan Overfitting: SVM dapat mengendalikan overfitting (ketika model terlalu cocok dengan data pelatihan) melalui parameter seperti C (cost) dan kernel yang tepat.\n",
    "   2. **Kelemahan Model SVM**:\n",
    "   - Butuh Pemilihan Kernel yang Tepat: Performa SVM sangat tergantung pada pemilihan kernel yang sesuai dengan data. Pemilihan yang salah dapat mempengaruhi hasil model.\n",
    "   - Sensitif terhadap Skala dan Noise: SVM rentan terhadap perbedaan skala antar variabel dan keberadaan noise dalam data. Skala yang tidak seimbang atau noise dapat memengaruhi performa model.\n",
    "   - Penyetelan Parameter yang Rumit: Menyetel parameter SVM (seperti C dan gamma) membutuhkan uji coba yang cermat terutama pada data yang kompleks seperti kredit kartu default.\n",
    "\n",
    "3. `Improvement Model`:\n",
    "   1. **Pemilihan Kernel**: Coba variasi jenis \"kernel\" yang digunakan dalam SVM, seperti linear, polynomial, atau radial basis function (RBF), untuk menemukan yang paling cocok dengan pola data kartu kredit.\n",
    "   2. **Penyetelan Parameter**: Lakukan penyetelan parameter SVM dengan hati-hati, seperti parameter C (cost) dan gamma untuk kernel RBF. Gunakan teknik seperti GridSearchCV untuk menemukan kombinasi parameter terbaik. \n",
    "   3. **Penanganan Ketidakseimbangan Kelas**: Jika jumlah default dan non-default tidak seimbang, pertimbangkan teknik untuk menyeimbangkan kelas target, seperti oversampling, undersampling, atau memberikan bobot berbeda pada kelas.\n",
    "   4. **Normalisasi Data**: Pastikan data sudah dinormalisasi atau distandarisasi agar SVM dapat bekerja lebih baik dengan skala data yang berbeda.\n",
    "   5. **Gabungan dengan Teknik Ensemble**: Gabungkan SVM dengan teknik ensemble seperti Random Forest atau Gradient Boosting untuk meningkatkan kestabilan dan performa prediksi.\n",
    "   7. **Analisis Fitur**: Lakukan analisis lebih mendalam terhadap fitur-fitur yang paling penting dalam prediksi default kartu kredit. Mungkin perlu mengurangi fitur yang tidak terlalu berpengaruh.\n",
    "   8. **Evaluasi dengan Metrik yang Lengkap**: Selain f1-score atau akurasi, gunakan metrik seperti ROC-AUC untuk mengevaluasi kemampuan model dalam membedakan kelas default dan non-default.\n",
    "\n",
    "4. `Insight EDA`:\n",
    "   - Berdasarkan pie chart sebagian besar (78,6%) pembayaran diperkirakan akan berhasil bulan depan.\n",
    "   - Pengguna credit card terbanyak yaitu pada usia 30 tahun.\n",
    "   - Semakin tinggi saldo limit semakin besar kemungkinan pembayaran yang gagal bulan depan.\n",
    "   - Terdapat hubungan positif antara bill amount dengan payment amount pada bulan pertama.\n",
    "   - Pengguna credit card terbanyak terletak pada education level 2 (University)."
   ]
  },
  {
   "cell_type": "markdown",
   "metadata": {},
   "source": [
    "# xiii. Conceptual Problem"
   ]
  },
  {
   "cell_type": "markdown",
   "metadata": {},
   "source": [
    "1. **Coeficient dalam logistic regression** adalah nilai-nilai yang menggambarkan seberapa besar pengaruh setiap fitur terhadap prediksi kejadian yang bersifat biner. Koefisien ini menunjukkan seberapa kuat dan dalam arah apa pengaruh setiap fitur terhadap hasil prediksi. Koefisien positif menunjukkan peningkatan probabilitas kejadian suatu peristiwa dengan peningkatan nilai fitur, sedangkan koefisien negatif menunjukkan hubungan sebaliknya. Dengan melihat koefisien, kita dapat menentukan variabel mana yang paling berpengaruh terhadap hasil prediksi dan mengerti arah serta kekuatan hubungannya dengan target yang diprediksi.\n",
    "\n",
    "2. **Kernel dalam SVM** adalah parameter yang menentukan fungsi matematis untuk mengubah data ke dalam ruang dimensi yang lebih tinggi. Tujuan dari penggunaan kernel adalah untuk memungkinkan SVM memisahkan kelas data yang tidak dapat dipisahkan secara linear di ruang dimensi asli. Salah satu contoh kernel yang umum digunakan adalah kernel RBF. Dengan menggunakan kernel RBF, SVM dapat menemukan hiperplane yang optimal untuk memisahkan kelas data yang tidak linear. Ini memungkinkan SVM untuk melakukan klasifikasi yang lebih baik di berbagai jenis data yang kompleks dan tidak linear.\n",
    "\n",
    "3. Untuk memilih nilai \\( K \\) yang optimal pada algoritma KNN, gunakan teknik validasi silang dengan membagi data menjadi subset pelatihan dan pengujian, kemudian evaluasi berbagai nilai \\( K \\) untuk memilih yang memberikan kinerja terbaik pada data validasi.\n",
    "\n",
    "4. Pengertian metrik `Accuracy`,` Precision`, `Recall`, dan `F1 Score` dan waktu yang tepat untuk menggunakannya adalah sebagai berikut:\n",
    "- **Accuracy**: Akurasi mengukur sejauh mana model mengklasifikasikan dengan benar (baik positif maupun negatif) dari semua prediksi yang dilakukan. Metrik ini cocok digunakan ketika kelas target di dataset seimbang, artinya jumlah sampel di setiap kelas tidak terlalu jauh berbeda.\n",
    "- **Precision**: Presisi mengukur proporsi dari prediksi positif yang benar terhadap semua prediksi positif yang dilakukan oleh model. Presisi berguna ketika fokus pada kebutuhan untuk meminimalkan jumlah false positive, misalnya dalam kasus deteksi spam email.\n",
    "- **Recall** : Recall mengukur proporsi dari prediksi positif yang benar terhadap semua instance yang benar positif dalam data aktual. Recall penting ketika fokus pada mendeteksi sebanyak mungkin instance positif, misalnya dalam deteksi penyakit diagnostik.\n",
    "- **F1 Score**: F1 Score adalah rata-rata harmonik dari precision dan recall. Metrik ini menggabungkan kedua nilai ini menjadi satu skor tunggal yang bermanfaat ketika tidak ingin fokus terlalu banyak pada false positives atau false negatives. F1 Score cocok digunakan ketika dataset memiliki distribusi kelas yang tidak seimbang.\n",
    "\n",
    "\n",
    "\n",
    "\n",
    "\n"
   ]
  }
 ],
 "metadata": {
  "kernelspec": {
   "display_name": "base",
   "language": "python",
   "name": "python3"
  },
  "language_info": {
   "codemirror_mode": {
    "name": "ipython",
    "version": 3
   },
   "file_extension": ".py",
   "mimetype": "text/x-python",
   "name": "python",
   "nbconvert_exporter": "python",
   "pygments_lexer": "ipython3",
   "version": "3.11.7"
  }
 },
 "nbformat": 4,
 "nbformat_minor": 2
}
