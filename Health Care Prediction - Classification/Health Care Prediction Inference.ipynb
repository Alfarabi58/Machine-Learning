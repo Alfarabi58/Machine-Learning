{
 "cells": [
  {
   "cell_type": "markdown",
   "metadata": {},
   "source": [
    "# Model Inference"
   ]
  },
  {
   "cell_type": "markdown",
   "metadata": {},
   "source": [
    "**Nama** : Alfarabi\n",
    "\n",
    "**Batch** : BSD 005\n",
    "\n",
    "**Dataset** : [Health care](https://www.kaggle.com/datasets/prasad22/healthcare-dataset/data)"
   ]
  },
  {
   "cell_type": "code",
   "execution_count": 1,
   "metadata": {},
   "outputs": [],
   "source": [
    "# Import library\n",
    "import pandas as pd\n",
    "import pickle"
   ]
  },
  {
   "cell_type": "code",
   "execution_count": 2,
   "metadata": {},
   "outputs": [],
   "source": [
    "# Load the file\n",
    "with open ('best_knn.pkl', 'rb') as file_1:\n",
    "    best_knn = pickle.load(file_1)"
   ]
  },
  {
   "cell_type": "code",
   "execution_count": 3,
   "metadata": {},
   "outputs": [
    {
     "data": {
      "text/html": [
       "<div>\n",
       "<style scoped>\n",
       "    .dataframe tbody tr th:only-of-type {\n",
       "        vertical-align: middle;\n",
       "    }\n",
       "\n",
       "    .dataframe tbody tr th {\n",
       "        vertical-align: top;\n",
       "    }\n",
       "\n",
       "    .dataframe thead th {\n",
       "        text-align: right;\n",
       "    }\n",
       "</style>\n",
       "<table border=\"1\" class=\"dataframe\">\n",
       "  <thead>\n",
       "    <tr style=\"text-align: right;\">\n",
       "      <th></th>\n",
       "      <th>age</th>\n",
       "      <th>gender</th>\n",
       "      <th>blood_type</th>\n",
       "      <th>medical_condition</th>\n",
       "      <th>insurance_provider</th>\n",
       "      <th>billing_amount</th>\n",
       "      <th>admission_type</th>\n",
       "      <th>medication</th>\n",
       "      <th>length_of_stay</th>\n",
       "    </tr>\n",
       "  </thead>\n",
       "  <tbody>\n",
       "    <tr>\n",
       "      <th>0</th>\n",
       "      <td>35</td>\n",
       "      <td>Male</td>\n",
       "      <td>O+</td>\n",
       "      <td>Obesity</td>\n",
       "      <td>Aetna</td>\n",
       "      <td>20841.542773</td>\n",
       "      <td>Urgent</td>\n",
       "      <td>Paracetamol</td>\n",
       "      <td>5</td>\n",
       "    </tr>\n",
       "  </tbody>\n",
       "</table>\n",
       "</div>"
      ],
      "text/plain": [
       "   age gender blood_type medical_condition insurance_provider billing_amount  \\\n",
       "0   35   Male         O+           Obesity              Aetna   20841.542773   \n",
       "\n",
       "  admission_type   medication  length_of_stay  \n",
       "0         Urgent  Paracetamol               5  "
      ]
     },
     "execution_count": 3,
     "metadata": {},
     "output_type": "execute_result"
    }
   ],
   "source": [
    "# Create data inference\n",
    "df_inf={'age' : 35,\n",
    "        'gender' : 'Male',\n",
    "        'blood_type' : 'O+',\n",
    "        'medical_condition' : 'Obesity',\n",
    "        'insurance_provider' : 'Aetna',\n",
    "        'billing_amount' : '20841.542773',\n",
    "        'admission_type' : 'Urgent',\n",
    "        'medication' : 'Paracetamol',\n",
    "        'length_of_stay' : 5,\n",
    "        }\n",
    "\n",
    "# Create DataFrame for inference\n",
    "df_inf = pd.DataFrame([df_inf])\n",
    "df_inf"
   ]
  },
  {
   "cell_type": "code",
   "execution_count": 4,
   "metadata": {},
   "outputs": [
    {
     "name": "stdout",
     "output_type": "stream",
     "text": [
      "Pasien Normal\n"
     ]
    }
   ],
   "source": [
    "# Predict\n",
    "y_pred_inf = best_knn.predict(df_inf)\n",
    "\n",
    "# Menampilkan test results berdasarkan prediksi\n",
    "if y_pred_inf == 0:\n",
    "    print('Pasien Abnormal')\n",
    "elif y_pred_inf == 1:\n",
    "    print('Pasien Inconclusive')\n",
    "elif y_pred_inf == 2:\n",
    "    print('Pasien Normal')"
   ]
  }
 ],
 "metadata": {
  "kernelspec": {
   "display_name": "base",
   "language": "python",
   "name": "python3"
  },
  "language_info": {
   "codemirror_mode": {
    "name": "ipython",
    "version": 3
   },
   "file_extension": ".py",
   "mimetype": "text/x-python",
   "name": "python",
   "nbconvert_exporter": "python",
   "pygments_lexer": "ipython3",
   "version": "3.11.7"
  }
 },
 "nbformat": 4,
 "nbformat_minor": 2
}
