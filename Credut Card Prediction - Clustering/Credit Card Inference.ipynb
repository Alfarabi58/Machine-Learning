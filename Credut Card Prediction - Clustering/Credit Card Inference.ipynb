{
 "cells": [
  {
   "cell_type": "markdown",
   "metadata": {},
   "source": [
    "# Import Libraries"
   ]
  },
  {
   "cell_type": "code",
   "execution_count": 1,
   "metadata": {},
   "outputs": [],
   "source": [
    "# Import library\n",
    "import pandas as pd\n",
    "import pickle\n",
    "import json"
   ]
  },
  {
   "cell_type": "markdown",
   "metadata": {},
   "source": [
    "# Load Data"
   ]
  },
  {
   "cell_type": "code",
   "execution_count": 2,
   "metadata": {},
   "outputs": [],
   "source": [
    "# Memuat model scaler dari file 'model_scaler.pkl'\n",
    "with open('model_scaler.pkl', 'rb') as file_1:\n",
    "  model_scaler = pickle.load(file_1)\n",
    "\n",
    "# Memuat model PCA (Principal Component Analysis) dari file 'model_pca.pkl'\n",
    "with open('model_pca.pkl', 'rb') as file_2:\n",
    "  model_pca = pickle.load(file_2)\n",
    "\n",
    "# Memuat model K-Means dari file 'model_km.pkl'\n",
    "with open('model_km.pkl', 'rb') as file_3:\n",
    "  model_km = pickle.load(file_3)\n",
    "\n",
    "# Memuat daftar nama fitur numerik (num_col) dari file 'num_col.txt' dalam format JSON\n",
    "with open('num_col.txt','r') as file_4:\n",
    "  num_col = json.load(file_4)"
   ]
  },
  {
   "cell_type": "markdown",
   "metadata": {},
   "source": [
    "# Load Data Inference"
   ]
  },
  {
   "cell_type": "code",
   "execution_count": 3,
   "metadata": {},
   "outputs": [
    {
     "data": {
      "text/html": [
       "<div>\n",
       "<style scoped>\n",
       "    .dataframe tbody tr th:only-of-type {\n",
       "        vertical-align: middle;\n",
       "    }\n",
       "\n",
       "    .dataframe tbody tr th {\n",
       "        vertical-align: top;\n",
       "    }\n",
       "\n",
       "    .dataframe thead th {\n",
       "        text-align: right;\n",
       "    }\n",
       "</style>\n",
       "<table border=\"1\" class=\"dataframe\">\n",
       "  <thead>\n",
       "    <tr style=\"text-align: right;\">\n",
       "      <th></th>\n",
       "      <th>BALANCE</th>\n",
       "      <th>BALANCE_FREQUENCY</th>\n",
       "      <th>PURCHASES</th>\n",
       "      <th>ONEOFF_PURCHASES</th>\n",
       "      <th>INSTALLMENTS_PURCHASES</th>\n",
       "      <th>CASH_ADVANCE</th>\n",
       "      <th>PURCHASES_FREQUENCY</th>\n",
       "      <th>ONEOFF_PURCHASES_FREQUENCY</th>\n",
       "      <th>PURCHASES_INSTALLMENTS_FREQUENCY</th>\n",
       "      <th>CASH_ADVANCE_FREQUENCY</th>\n",
       "      <th>CASH_ADVANCE_TRX</th>\n",
       "      <th>PURCHASES_TRX</th>\n",
       "      <th>CREDIT_LIMIT</th>\n",
       "      <th>PAYMENTS</th>\n",
       "      <th>MINIMUM_PAYMENTS</th>\n",
       "      <th>PRC_FULL_PAYMENT</th>\n",
       "      <th>TENURE</th>\n",
       "    </tr>\n",
       "  </thead>\n",
       "  <tbody>\n",
       "    <tr>\n",
       "      <th>0</th>\n",
       "      <td>11590</td>\n",
       "      <td>1</td>\n",
       "      <td>9000</td>\n",
       "      <td>1464</td>\n",
       "      <td>5967</td>\n",
       "      <td>6048</td>\n",
       "      <td>0</td>\n",
       "      <td>0</td>\n",
       "      <td>1</td>\n",
       "      <td>1.1</td>\n",
       "      <td>45</td>\n",
       "      <td>80</td>\n",
       "      <td>25000</td>\n",
       "      <td>4034</td>\n",
       "      <td>54086</td>\n",
       "      <td>1</td>\n",
       "      <td>12</td>\n",
       "    </tr>\n",
       "  </tbody>\n",
       "</table>\n",
       "</div>"
      ],
      "text/plain": [
       "   BALANCE  BALANCE_FREQUENCY  PURCHASES  ONEOFF_PURCHASES  \\\n",
       "0    11590                  1       9000              1464   \n",
       "\n",
       "   INSTALLMENTS_PURCHASES  CASH_ADVANCE  PURCHASES_FREQUENCY  \\\n",
       "0                    5967          6048                    0   \n",
       "\n",
       "   ONEOFF_PURCHASES_FREQUENCY  PURCHASES_INSTALLMENTS_FREQUENCY  \\\n",
       "0                           0                                 1   \n",
       "\n",
       "   CASH_ADVANCE_FREQUENCY  CASH_ADVANCE_TRX  PURCHASES_TRX  CREDIT_LIMIT  \\\n",
       "0                     1.1                45             80         25000   \n",
       "\n",
       "   PAYMENTS  MINIMUM_PAYMENTS  PRC_FULL_PAYMENT  TENURE  \n",
       "0      4034             54086                 1      12  "
      ]
     },
     "execution_count": 3,
     "metadata": {},
     "output_type": "execute_result"
    }
   ],
   "source": [
    "# Create data inference\n",
    "df_inf={'BALANCE' : 11590,\n",
    "        'BALANCE_FREQUENCY' : 1,\n",
    "        'PURCHASES' : 9000,\n",
    "        'ONEOFF_PURCHASES' : 1464,\n",
    "        'INSTALLMENTS_PURCHASES' : 5967,\n",
    "        'CASH_ADVANCE' : 6048,\n",
    "        'PURCHASES_FREQUENCY' : 0,\n",
    "        'ONEOFF_PURCHASES_FREQUENCY' : 0,\n",
    "        'PURCHASES_INSTALLMENTS_FREQUENCY' : 1,\n",
    "        'CASH_ADVANCE_FREQUENCY': 1.1,\n",
    "        'CASH_ADVANCE_TRX' : 45,\n",
    "        'PURCHASES_TRX' : 80,\n",
    "        'CREDIT_LIMIT' : 25000,\n",
    "        'PAYMENTS' : 4034,\n",
    "        'MINIMUM_PAYMENTS' : 54086,\n",
    "        'PRC_FULL_PAYMENT': 1,\n",
    "        'TENURE' : 12,\n",
    "        }\n",
    "\n",
    "# Create DataFrame for inference\n",
    "df_inf = pd.DataFrame([df_inf])\n",
    "df_inf"
   ]
  },
  {
   "cell_type": "markdown",
   "metadata": {},
   "source": [
    "# Scaling dan PCA"
   ]
  },
  {
   "cell_type": "code",
   "execution_count": 4,
   "metadata": {},
   "outputs": [],
   "source": [
    "# Melakukan transformasi scaling menggunakan model_scaler pada dataframe df_inf\n",
    "df_inf_scaled = model_scaler.transform(df_inf)"
   ]
  },
  {
   "cell_type": "code",
   "execution_count": 5,
   "metadata": {},
   "outputs": [],
   "source": [
    "# Mengaplikasikan transformasi PCA pada data yang telah discaling\n",
    "df_inf_pca = model_pca.transform(df_inf_scaled)"
   ]
  },
  {
   "cell_type": "markdown",
   "metadata": {},
   "source": [
    "# Predict Inference"
   ]
  },
  {
   "cell_type": "code",
   "execution_count": 6,
   "metadata": {},
   "outputs": [
    {
     "name": "stdout",
     "output_type": "stream",
     "text": [
      "Cluster 4\n"
     ]
    }
   ],
   "source": [
    "# Menggunakan model klastering untuk memprediksi klaster dari data yang di-preprocessed dengan PCA\n",
    "df_pred = model_km.predict(df_inf_pca)\n",
    "\n",
    "# Menampilkan label klaster berdasarkan prediksi\n",
    "if df_pred == 0:\n",
    "    print('Cluster 0')\n",
    "elif df_pred == 1:\n",
    "    print('Cluster 1')\n",
    "elif df_pred == 2:\n",
    "    print('Cluster 2')\n",
    "elif df_pred == 3:\n",
    "    print('Cluster 3')\n",
    "elif df_pred == 4:\n",
    "    print('Cluster 4')"
   ]
  }
 ],
 "metadata": {
  "kernelspec": {
   "display_name": "base",
   "language": "python",
   "name": "python3"
  },
  "language_info": {
   "codemirror_mode": {
    "name": "ipython",
    "version": 3
   },
   "file_extension": ".py",
   "mimetype": "text/x-python",
   "name": "python",
   "nbconvert_exporter": "python",
   "pygments_lexer": "ipython3",
   "version": "3.11.7"
  }
 },
 "nbformat": 4,
 "nbformat_minor": 2
}
